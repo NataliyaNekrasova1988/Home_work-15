{
 "cells": [
  {
   "cell_type": "markdown",
   "id": "94315dfc",
   "metadata": {
    "toc": true
   },
   "source": [
    "<h1>Table of Contents<span class=\"tocSkip\"></span></h1>\n",
    "<div class=\"toc\"><ul class=\"toc-item\"><li><span><a href=\"#Разделите-выборку-на-обучающую-и-тестовую-в-отношении-$80$%$/$$20$%,-предварительно-выделив-целевую-переменную-(колонка-'MEDV')\" data-toc-modified-id=\"Разделите-выборку-на-обучающую-и-тестовую-в-отношении-$80$%$/$$20$%,-предварительно-выделив-целевую-переменную-(колонка-'MEDV')-1\"><span class=\"toc-item-num\">1&nbsp;&nbsp;</span>Разделите выборку на обучающую и тестовую в отношении $80$%$/$$20$%, предварительно выделив целевую переменную (колонка 'MEDV')</a></span></li><li><span><a href=\"#Обучите-стандартную-регрессию,-а-также-$Ridge$-и-$Lasso$-с-параметрами-по-умолчанию-и-выведите-их-$R^2$-на-тестовой-выборке:\" data-toc-modified-id=\"Обучите-стандартную-регрессию,-а-также-$Ridge$-и-$Lasso$-с-параметрами-по-умолчанию-и-выведите-их-$R^2$-на-тестовой-выборке:-2\"><span class=\"toc-item-num\">2&nbsp;&nbsp;</span>Обучите стандартную регрессию, а также $Ridge$ и $Lasso$ с параметрами по умолчанию и выведите их $R^2$ на тестовой выборке:</a></span></li><li><span><a href=\"#Для-$Ridge$-и-$Lasso$-подберите-коэффициент-регуляризации-двумя-способами:\" data-toc-modified-id=\"Для-$Ridge$-и-$Lasso$-подберите-коэффициент-регуляризации-двумя-способами:-3\"><span class=\"toc-item-num\">3&nbsp;&nbsp;</span>Для $Ridge$ и $Lasso$ подберите коэффициент регуляризации двумя способами:</a></span></li><li><span><a href=\"#Проведите-масштабирование-выборки-(используйте-$Pipeline$,-$StandardScaler$,-$MinMaxScaler$),-посчитайте-$R^2$-для-$Ridge$-и-$Lasso$-с-параметрами-по-умолчанию-и-сравните-с-предыдущими-результатами.\" data-toc-modified-id=\"Проведите-масштабирование-выборки-(используйте-$Pipeline$,-$StandardScaler$,-$MinMaxScaler$),-посчитайте-$R^2$-для-$Ridge$-и-$Lasso$-с-параметрами-по-умолчанию-и-сравните-с-предыдущими-результатами.-4\"><span class=\"toc-item-num\">4&nbsp;&nbsp;</span>Проведите масштабирование выборки (используйте $Pipeline$, $StandardScaler$, $MinMaxScaler$), посчитайте $R^2$ для $Ridge$ и $Lasso$ с параметрами по умолчанию и сравните с предыдущими результатами.</a></span></li><li><span><a href=\"#Подберите-коэффициент-регуляризации-для-$Ridge$-и-$Lasso$-на-масштабированных-данных,-посчитайте-$R^2$-и-сравните-с-предыдущими-результатами.\" data-toc-modified-id=\"Подберите-коэффициент-регуляризации-для-$Ridge$-и-$Lasso$-на-масштабированных-данных,-посчитайте-$R^2$-и-сравните-с-предыдущими-результатами.-5\"><span class=\"toc-item-num\">5&nbsp;&nbsp;</span>Подберите коэффициент регуляризации для $Ridge$ и $Lasso$ на масштабированных данных, посчитайте $R^2$ и сравните с предыдущими результатами.</a></span></li><li><span><a href=\"#Добавьте-попарные-произведения-признаков-и-их-квадраты-(используйте-$PolynomialFeatures$)-на-масштабированных-признаках,-посчитайте-$R^2$-для-$Ridge$-и-$Lasso$-с-параметрами-по-умолчанию-и-сравните-с-предыдущими-результатами.\" data-toc-modified-id=\"Добавьте-попарные-произведения-признаков-и-их-квадраты-(используйте-$PolynomialFeatures$)-на-масштабированных-признаках,-посчитайте-$R^2$-для-$Ridge$-и-$Lasso$-с-параметрами-по-умолчанию-и-сравните-с-предыдущими-результатами.-6\"><span class=\"toc-item-num\">6&nbsp;&nbsp;</span>Добавьте попарные произведения признаков и их квадраты (используйте $PolynomialFeatures$) на масштабированных признаках, посчитайте $R^2$ для $Ridge$ и $Lasso$ с параметрами по умолчанию и сравните с предыдущими результатами.</a></span></li><li><span><a href=\"#Подберите-коэффициент-регуляризации-для-$Ridge$-и-$Lasso$-на-масштабированных-данных,-добавив-$PolynomialFeatures$,-посчитайте-$R^2$-и-сравните-с-предыдущими-результатами.\" data-toc-modified-id=\"Подберите-коэффициент-регуляризации-для-$Ridge$-и-$Lasso$-на-масштабированных-данных,-добавив-$PolynomialFeatures$,-посчитайте-$R^2$-и-сравните-с-предыдущими-результатами.-7\"><span class=\"toc-item-num\">7&nbsp;&nbsp;</span>Подберите коэффициент регуляризации для $Ridge$ и $Lasso$ на масштабированных данных, добавив $PolynomialFeatures$, посчитайте $R^2$ и сравните с предыдущими результатами.</a></span></li><li><span><a href=\"#Подберите-наилучшую-модель-(используйте-$Pipeline$,-$GridSearchSCV$)-подбирая-тип-регуляризации-($L1$,$L2$),-коэффициент-регуляризации,-метод-масштабирования-и-степень-полинома-в-$PolynomialFeatures$.-Выведите-итоговые-параметры-и-результат-$R^2$.\" data-toc-modified-id=\"Подберите-наилучшую-модель-(используйте-$Pipeline$,-$GridSearchSCV$)-подбирая-тип-регуляризации-($L1$,$L2$),-коэффициент-регуляризации,-метод-масштабирования-и-степень-полинома-в-$PolynomialFeatures$.-Выведите-итоговые-параметры-и-результат-$R^2$.-8\"><span class=\"toc-item-num\">8&nbsp;&nbsp;</span>Подберите наилучшую модель (используйте $Pipeline$, $GridSearchSCV$) подбирая тип регуляризации ($L1$,$L2$), коэффициент регуляризации, метод масштабирования и степень полинома в $PolynomialFeatures$. Выведите итоговые параметры и результат $R^2$.</a></span></li><li><span><a href=\"#Разделите-выборку-на-признаки-и-целевую-переменную(колонка-$class$).-Замените-целевую-переменную-на-числовые-значения-('$<=50K'---1$,-'$>50K'---0$)\" data-toc-modified-id=\"Разделите-выборку-на-признаки-и-целевую-переменную(колонка-$class$).-Замените-целевую-переменную-на-числовые-значения-('$<=50K'---1$,-'$>50K'---0$)-9\"><span class=\"toc-item-num\">9&nbsp;&nbsp;</span>Разделите выборку на признаки и целевую переменную(колонка $class$). Замените целевую переменную на числовые значения ('$&lt;=50K' - 1$, '$&gt;50K' - 0$)</a></span></li><li><span><a href=\"#Посчитайте-метрики-$accuracy$-и-$f1$_$score$-на-предсказании-только-самого-частого-класса-в-целевой-переменной.\" data-toc-modified-id=\"Посчитайте-метрики-$accuracy$-и-$f1$_$score$-на-предсказании-только-самого-частого-класса-в-целевой-переменной.-10\"><span class=\"toc-item-num\">10&nbsp;&nbsp;</span>Посчитайте метрики $accuracy$ и $f1$_$score$ на предсказании только самого частого класса в целевой переменной.</a></span></li><li><span><a href=\"#Выясните,-присутствуют-ли-в-данных-пропуски.-Если-присутствуют,-заполните-их-самыми-частыми-значениями-(испольуйте-$SimpleImputer$)\" data-toc-modified-id=\"Выясните,-присутствуют-ли-в-данных-пропуски.-Если-присутствуют,-заполните-их-самыми-частыми-значениями-(испольуйте-$SimpleImputer$)-11\"><span class=\"toc-item-num\">11&nbsp;&nbsp;</span>Выясните, присутствуют ли в данных пропуски. Если присутствуют, заполните их самыми частыми значениями (испольуйте $SimpleImputer$)</a></span></li><li><span><a href=\"#Выберите-колонки-с-числовыми-и-категориальными-переменными-(используя-возможности-$pandas$).\" data-toc-modified-id=\"Выберите-колонки-с-числовыми-и-категориальными-переменными-(используя-возможности-$pandas$).-12\"><span class=\"toc-item-num\">12&nbsp;&nbsp;</span>Выберите колонки с числовыми и категориальными переменными (используя возможности $pandas$).</a></span></li><li><span><a href=\"#Создайте-пайплайн-по-обработке-числовых-и-категориальных-значений-колонок-(используйте-$OneHotEncoder,MinMaxScaler$)-и-посчитайте-cross_val_score-по-алгоритмам-$LogisticRegression,-KNeighborsClassifier,-LinearSVC$-по-метрикам-$accuracy$-и-$f1$_$score$\" data-toc-modified-id=\"Создайте-пайплайн-по-обработке-числовых-и-категориальных-значений-колонок-(используйте-$OneHotEncoder,MinMaxScaler$)-и-посчитайте-cross_val_score-по-алгоритмам-$LogisticRegression,-KNeighborsClassifier,-LinearSVC$-по-метрикам-$accuracy$-и-$f1$_$score$-13\"><span class=\"toc-item-num\">13&nbsp;&nbsp;</span>Создайте пайплайн по обработке числовых и категориальных значений колонок (используйте $OneHotEncoder,MinMaxScaler$) и посчитайте cross_val_score по алгоритмам $LogisticRegression, KNeighborsClassifier, LinearSVC$ по метрикам $accuracy$ и $f1$_$score$</a></span></li><li><span><a href=\"#Можно-заметить-что-в-данных-присутствуют-значения-'$?$',-замените-их-самыми-частыми-значениями,-(испольуйте-$SimpleImputer$).-Посчитайте-cross_val_score-по-алгоритмам-$LogisticRegression,-KNeighborsClassifier,-LinearSVC$-по-метрикам-$accuracy$-и-$f1$_$score$.\" data-toc-modified-id=\"Можно-заметить-что-в-данных-присутствуют-значения-'$?$',-замените-их-самыми-частыми-значениями,-(испольуйте-$SimpleImputer$).-Посчитайте-cross_val_score-по-алгоритмам-$LogisticRegression,-KNeighborsClassifier,-LinearSVC$-по-метрикам-$accuracy$-и-$f1$_$score$.-14\"><span class=\"toc-item-num\">14&nbsp;&nbsp;</span>Можно заметить что в данных присутствуют значения '$?$', замените их самыми частыми значениями, (испольуйте $SimpleImputer$). Посчитайте cross_val_score по алгоритмам $LogisticRegression, KNeighborsClassifier, LinearSVC$ по метрикам $accuracy$ и $f1$_$score$.</a></span></li><li><span><a href=\"#Посчитайте-cross_val_score-по-тем-же-алгоритмам-и-метрикам,-если-просто-удалить-значения-'$?$'.\" data-toc-modified-id=\"Посчитайте-cross_val_score-по-тем-же-алгоритмам-и-метрикам,-если-просто-удалить-значения-'$?$'.-15\"><span class=\"toc-item-num\">15&nbsp;&nbsp;</span>Посчитайте cross_val_score по тем же алгоритмам и метрикам, если просто удалить значения '$?$'.</a></span></li><li><span><a href=\"#Посчитайте-cross_val_score-для-$RandomForestClassifier,GradientBoostingClassifier$-на-данных-с-замененными-значениями-'$?$'-на-самые-частые-значения.\" data-toc-modified-id=\"Посчитайте-cross_val_score-для-$RandomForestClassifier,GradientBoostingClassifier$-на-данных-с-замененными-значениями-'$?$'-на-самые-частые-значения.-16\"><span class=\"toc-item-num\">16&nbsp;&nbsp;</span>Посчитайте cross_val_score для $RandomForestClassifier,GradientBoostingClassifier$ на данных с замененными значениями '$?$' на самые частые значения.</a></span></li><li><span><a href=\"#Подберите-наилучшую-модель,-подбирая-методы-обработки-колонок---масштабирование-признаков,-кодирование-признаков-и-заполнение-пропусков.-Параметры-алгоритмов-оставьте-по-умолчанию.-Выведите-итоговые-параметры-и-результат-accuracy-и-$f1$_$score$.\" data-toc-modified-id=\"Подберите-наилучшую-модель,-подбирая-методы-обработки-колонок---масштабирование-признаков,-кодирование-признаков-и-заполнение-пропусков.-Параметры-алгоритмов-оставьте-по-умолчанию.-Выведите-итоговые-параметры-и-результат-accuracy-и-$f1$_$score$.-17\"><span class=\"toc-item-num\">17&nbsp;&nbsp;</span>Подберите наилучшую модель, подбирая методы обработки колонок - масштабирование признаков, кодирование признаков и заполнение пропусков. Параметры алгоритмов оставьте по умолчанию. Выведите итоговые параметры и результат accuracy и $f1$_$score$.</a></span></li></ul></div>"
   ]
  },
  {
   "cell_type": "code",
   "execution_count": 110,
   "id": "c0ede097",
   "metadata": {},
   "outputs": [],
   "source": [
    "import numpy as np\n",
    "import pandas as pd\n",
    "from sklearn.model_selection import train_test_split, GridSearchCV\n",
    "from sklearn.impute import SimpleImputer\n",
    "from sklearn.preprocessing import LabelEncoder\n",
    "from sklearn.compose import ColumnTransformer\n",
    "from sklearn.dummy import DummyClassifier\n",
    "from sklearn.linear_model import LinearRegression, Ridge, Lasso, RidgeCV, LassoCV\n",
    "from sklearn.metrics import r2_score\n",
    "import warnings\n",
    "warnings.filterwarnings('ignore')"
   ]
  },
  {
   "cell_type": "code",
   "execution_count": 4,
   "id": "0a0d44b6",
   "metadata": {},
   "outputs": [],
   "source": [
    "RANDOM_STATE = 42\n",
    "\n",
    "results_regression = pd.DataFrame(columns = ['model', 'task', 'R2'])\n",
    "results_classification = pd.DataFrame(columns = ['model', 'task', 'f1', 'accuracy'])"
   ]
  },
  {
   "cell_type": "markdown",
   "id": "1b1248cb",
   "metadata": {},
   "source": [
    "__1. РЕГРЕССИЯ:__"
   ]
  },
  {
   "cell_type": "code",
   "execution_count": 5,
   "id": "f2257557",
   "metadata": {
    "scrolled": false
   },
   "outputs": [
    {
     "data": {
      "text/html": [
       "<div>\n",
       "<style scoped>\n",
       "    .dataframe tbody tr th:only-of-type {\n",
       "        vertical-align: middle;\n",
       "    }\n",
       "\n",
       "    .dataframe tbody tr th {\n",
       "        vertical-align: top;\n",
       "    }\n",
       "\n",
       "    .dataframe thead th {\n",
       "        text-align: right;\n",
       "    }\n",
       "</style>\n",
       "<table border=\"1\" class=\"dataframe\">\n",
       "  <thead>\n",
       "    <tr style=\"text-align: right;\">\n",
       "      <th></th>\n",
       "      <th>CRIM</th>\n",
       "      <th>ZN</th>\n",
       "      <th>INDUS</th>\n",
       "      <th>CHAS</th>\n",
       "      <th>NOX</th>\n",
       "      <th>RM</th>\n",
       "      <th>AGE</th>\n",
       "      <th>DIS</th>\n",
       "      <th>RAD</th>\n",
       "      <th>TAX</th>\n",
       "      <th>PTRATIO</th>\n",
       "      <th>B</th>\n",
       "      <th>LSTAT</th>\n",
       "      <th>MEDV</th>\n",
       "    </tr>\n",
       "  </thead>\n",
       "  <tbody>\n",
       "    <tr>\n",
       "      <th>0</th>\n",
       "      <td>0.00632</td>\n",
       "      <td>18.0</td>\n",
       "      <td>2.31</td>\n",
       "      <td>0.0</td>\n",
       "      <td>0.538</td>\n",
       "      <td>6.575</td>\n",
       "      <td>65.2</td>\n",
       "      <td>4.0900</td>\n",
       "      <td>1.0</td>\n",
       "      <td>296.0</td>\n",
       "      <td>15.3</td>\n",
       "      <td>396.90</td>\n",
       "      <td>4.98</td>\n",
       "      <td>24.0</td>\n",
       "    </tr>\n",
       "    <tr>\n",
       "      <th>1</th>\n",
       "      <td>0.02731</td>\n",
       "      <td>0.0</td>\n",
       "      <td>7.07</td>\n",
       "      <td>0.0</td>\n",
       "      <td>0.469</td>\n",
       "      <td>6.421</td>\n",
       "      <td>78.9</td>\n",
       "      <td>4.9671</td>\n",
       "      <td>2.0</td>\n",
       "      <td>242.0</td>\n",
       "      <td>17.8</td>\n",
       "      <td>396.90</td>\n",
       "      <td>9.14</td>\n",
       "      <td>21.6</td>\n",
       "    </tr>\n",
       "    <tr>\n",
       "      <th>2</th>\n",
       "      <td>0.02729</td>\n",
       "      <td>0.0</td>\n",
       "      <td>7.07</td>\n",
       "      <td>0.0</td>\n",
       "      <td>0.469</td>\n",
       "      <td>7.185</td>\n",
       "      <td>61.1</td>\n",
       "      <td>4.9671</td>\n",
       "      <td>2.0</td>\n",
       "      <td>242.0</td>\n",
       "      <td>17.8</td>\n",
       "      <td>392.83</td>\n",
       "      <td>4.03</td>\n",
       "      <td>34.7</td>\n",
       "    </tr>\n",
       "    <tr>\n",
       "      <th>3</th>\n",
       "      <td>0.03237</td>\n",
       "      <td>0.0</td>\n",
       "      <td>2.18</td>\n",
       "      <td>0.0</td>\n",
       "      <td>0.458</td>\n",
       "      <td>6.998</td>\n",
       "      <td>45.8</td>\n",
       "      <td>6.0622</td>\n",
       "      <td>3.0</td>\n",
       "      <td>222.0</td>\n",
       "      <td>18.7</td>\n",
       "      <td>394.63</td>\n",
       "      <td>2.94</td>\n",
       "      <td>33.4</td>\n",
       "    </tr>\n",
       "    <tr>\n",
       "      <th>4</th>\n",
       "      <td>0.06905</td>\n",
       "      <td>0.0</td>\n",
       "      <td>2.18</td>\n",
       "      <td>0.0</td>\n",
       "      <td>0.458</td>\n",
       "      <td>7.147</td>\n",
       "      <td>54.2</td>\n",
       "      <td>6.0622</td>\n",
       "      <td>3.0</td>\n",
       "      <td>222.0</td>\n",
       "      <td>18.7</td>\n",
       "      <td>396.90</td>\n",
       "      <td>5.33</td>\n",
       "      <td>36.2</td>\n",
       "    </tr>\n",
       "  </tbody>\n",
       "</table>\n",
       "</div>"
      ],
      "text/plain": [
       "      CRIM    ZN  INDUS  CHAS    NOX     RM   AGE     DIS  RAD    TAX  \\\n",
       "0  0.00632  18.0   2.31   0.0  0.538  6.575  65.2  4.0900  1.0  296.0   \n",
       "1  0.02731   0.0   7.07   0.0  0.469  6.421  78.9  4.9671  2.0  242.0   \n",
       "2  0.02729   0.0   7.07   0.0  0.469  7.185  61.1  4.9671  2.0  242.0   \n",
       "3  0.03237   0.0   2.18   0.0  0.458  6.998  45.8  6.0622  3.0  222.0   \n",
       "4  0.06905   0.0   2.18   0.0  0.458  7.147  54.2  6.0622  3.0  222.0   \n",
       "\n",
       "   PTRATIO       B  LSTAT  MEDV  \n",
       "0     15.3  396.90   4.98  24.0  \n",
       "1     17.8  396.90   9.14  21.6  \n",
       "2     17.8  392.83   4.03  34.7  \n",
       "3     18.7  394.63   2.94  33.4  \n",
       "4     18.7  396.90   5.33  36.2  "
      ]
     },
     "execution_count": 5,
     "metadata": {},
     "output_type": "execute_result"
    }
   ],
   "source": [
    "data = pd.read_csv('boston.csv')\n",
    "data.head()\n"
   ]
  },
  {
   "cell_type": "code",
   "execution_count": null,
   "id": "c1924ff4",
   "metadata": {},
   "outputs": [],
   "source": []
  },
  {
   "cell_type": "markdown",
   "id": "ccc4b85f",
   "metadata": {},
   "source": [
    "### Разделите выборку на обучающую и тестовую в отношении $80$%$/$$20$%, предварительно выделив целевую переменную (колонка 'MEDV') ###"
   ]
  },
  {
   "cell_type": "code",
   "execution_count": 6,
   "id": "95256481",
   "metadata": {},
   "outputs": [],
   "source": [
    "X = data.iloc[:,:-1]\n",
    "y = data.iloc[:,-1]"
   ]
  },
  {
   "cell_type": "code",
   "execution_count": 7,
   "id": "e0041e96",
   "metadata": {},
   "outputs": [],
   "source": [
    "X_train , X_test, y_train , y_test = train_test_split(X, y, test_size=0.2, random_state=RANDOM_STATE)"
   ]
  },
  {
   "cell_type": "code",
   "execution_count": 8,
   "id": "e3a0fddb",
   "metadata": {},
   "outputs": [
    {
     "data": {
      "text/plain": [
       "((404, 13), (102, 13), (404,), (102,))"
      ]
     },
     "execution_count": 8,
     "metadata": {},
     "output_type": "execute_result"
    }
   ],
   "source": [
    "# Размеры тестовой,обучающей выборки и размер целевой переменной:\n",
    "X_train.shape, X_test.shape, y_train.shape, y_test.shape"
   ]
  },
  {
   "cell_type": "code",
   "execution_count": null,
   "id": "fcbbd79b",
   "metadata": {},
   "outputs": [],
   "source": []
  },
  {
   "cell_type": "markdown",
   "id": "b0226f8a",
   "metadata": {},
   "source": [
    "### Обучите стандартную регрессию, а также $Ridge$ и $Lasso$ с параметрами по умолчанию и выведите их $R^2$ на тестовой выборке: ### "
   ]
  },
  {
   "cell_type": "markdown",
   "id": "eb2ce159",
   "metadata": {},
   "source": [
    "1) $Стандартная$ $регрессия$:"
   ]
  },
  {
   "cell_type": "code",
   "execution_count": 9,
   "id": "60cab03b",
   "metadata": {
    "scrolled": true
   },
   "outputs": [
    {
     "name": "stdout",
     "output_type": "stream",
     "text": [
      "R2 Linear regression: 0.668483\n"
     ]
    }
   ],
   "source": [
    "lr = LinearRegression() #применяем линейную регрессию\n",
    "lr.fit(X_train, y_train) #передаём обучающие объекты\n",
    "lr_r2 = r2_score(y_test, lr.predict(X_test)) #коэффициент детерминации\n",
    "\n",
    "print(f\"R2 Linear regression: {lr_r2:.6f}\")"
   ]
  },
  {
   "cell_type": "markdown",
   "id": "f8425922",
   "metadata": {},
   "source": [
    "2) $Ridge$:"
   ]
  },
  {
   "cell_type": "code",
   "execution_count": 10,
   "id": "1c34a125",
   "metadata": {
    "scrolled": true
   },
   "outputs": [
    {
     "name": "stdout",
     "output_type": "stream",
     "text": [
      "R2 Ridge regression:  0.665961\n"
     ]
    }
   ],
   "source": [
    "ridge = Ridge() \n",
    "ridge.fit(X_train, y_train)\n",
    "ridge_r2 = r2_score(y_test, ridge.predict(X_test))\n",
    "\n",
    "print(f\"R2 Ridge regression:  {ridge_r2:.6f}\")"
   ]
  },
  {
   "cell_type": "markdown",
   "id": "bf262bd0",
   "metadata": {},
   "source": [
    "3) $Lasso$:"
   ]
  },
  {
   "cell_type": "code",
   "execution_count": 11,
   "id": "56ee8d4a",
   "metadata": {},
   "outputs": [
    {
     "name": "stdout",
     "output_type": "stream",
     "text": [
      "R2 Lasso regression:  0.666869\n"
     ]
    }
   ],
   "source": [
    "ls = Lasso()\n",
    "ls.fit(X_train, y_train)\n",
    "ls_r2 = r2_score(y_test, ls.predict(X_test))\n",
    "\n",
    "print(f\"R2 Lasso regression:  {ls_r2:.6f}\")"
   ]
  },
  {
   "cell_type": "code",
   "execution_count": 12,
   "id": "31599ee3",
   "metadata": {},
   "outputs": [],
   "source": [
    "r2_lr = lr_r2\n",
    "r2_ridge = ridge_r2\n",
    "r2_lasso = ls_r2\n",
    "results_regression.loc[0] = ['LR', 'task2', r2_lr]\n",
    "results_regression.loc[1] = ['Ridge', 'task2', r2_ridge]\n",
    "results_regression.loc[2] = ['Lasso', 'task2', r2_lasso]"
   ]
  },
  {
   "cell_type": "code",
   "execution_count": null,
   "id": "805e3e9e",
   "metadata": {},
   "outputs": [],
   "source": []
  },
  {
   "cell_type": "markdown",
   "id": "858a702d",
   "metadata": {},
   "source": [
    "### Для $Ridge$ и $Lasso$ подберите коэффициент регуляризации двумя способами:\n",
    "\n",
    "\n"
   ]
  },
  {
   "cell_type": "markdown",
   "id": "f89933f6",
   "metadata": {},
   "source": [
    "1) $GridSearchCV$,\n",
    "2) $RidgeCV$ и $LassoCV$,\n",
    "в пределах от $10^{-5}$ до $10^5$ (по степеням $10$).\\\n",
    "Посчитайте $R^2$ на тестовой выборке по всем моделям и сравните с предыдущими результатами"
   ]
  },
  {
   "cell_type": "markdown",
   "id": "b4435f00",
   "metadata": {},
   "source": [
    "*1) $GridSearchCV$(автоматически подбирает параметры модели)* "
   ]
  },
  {
   "cell_type": "code",
   "execution_count": 13,
   "id": "e6fd069a",
   "metadata": {},
   "outputs": [
    {
     "name": "stdout",
     "output_type": "stream",
     "text": [
      "Ridge(alpha=1e-05) Lasso(alpha=1e-05)\n",
      "R2 Ridge_GridSearchCV: 0.668483\n",
      "R2 Lasso_GridSearchCV: 0.668483\n"
     ]
    }
   ],
   "source": [
    "parameters = {'alpha':np.logspace(-5, 5, 11)}\n",
    "\n",
    "Ridge_GSCV = GridSearchCV(Ridge(), parameters)\n",
    "Ridge_GSCV.fit(X_train, y_train) \n",
    "\n",
    "Lasso_GSCV = GridSearchCV(Lasso(), parameters)\n",
    "Lasso_GSCV.fit(X_train, y_train)\n",
    "\n",
    "# Вывод лучших коэффициентов регуляризации\n",
    "print(Ridge_GSCV.best_estimator_, Lasso_GSCV.best_estimator_)\n",
    "\n",
    "Ridge_GSCV_best = Ridge_GSCV.best_estimator_\n",
    "Ridge_GSCV_r2 = r2_score(y_test, Ridge_GSCV_best.predict(X_test))\n",
    "\n",
    "Lasso_GSCV_best = Lasso_GSCV.best_estimator_\n",
    "Lasso_GSCV_r2 = r2_score(y_test, Lasso_GSCV_best.predict(X_test))\n",
    "\n",
    "print(f\"R2 Ridge_GridSearchCV: {Ridge_GSCV_r2:.6f}\")\n",
    "print(f\"R2 Lasso_GridSearchCV: {Lasso_GSCV_r2:.6f}\")"
   ]
  },
  {
   "cell_type": "markdown",
   "id": "d3cdb5e2",
   "metadata": {},
   "source": [
    "*2) $RidgeCV$*"
   ]
  },
  {
   "cell_type": "code",
   "execution_count": 14,
   "id": "a6b52434",
   "metadata": {},
   "outputs": [
    {
     "name": "stdout",
     "output_type": "stream",
     "text": [
      "alpha=0.01\n",
      "R2 Ridge_RidgeCV: 0.668475\n"
     ]
    }
   ],
   "source": [
    "RidCV = RidgeCV(alphas = np.logspace(-5, 5, 11))\n",
    "RidCV.fit(X_train, y_train)\n",
    "print(f\"alpha={RidCV.alpha_}\")\n",
    "\n",
    "RidCV_best = Ridge(alpha=RidCV.alpha_)\n",
    "RidCV_best.fit(X_train, y_train)\n",
    "\n",
    "Ridge_RidCV_r2 = r2_score(y_test, RidCV_best.predict(X_test))\n",
    "print(f\"R2 Ridge_RidgeCV: {Ridge_RidCV_r2:.6f}\")"
   ]
  },
  {
   "cell_type": "markdown",
   "id": "9eaa2277",
   "metadata": {},
   "source": [
    "*3) $LassoCV$*"
   ]
  },
  {
   "cell_type": "code",
   "execution_count": 15,
   "id": "7311d7d2",
   "metadata": {},
   "outputs": [
    {
     "name": "stdout",
     "output_type": "stream",
     "text": [
      "alpha=0.00001\n",
      "R2 Lasso_LassoCV: 0.668483\n"
     ]
    }
   ],
   "source": [
    "LassCV = LassoCV(alphas = np.logspace(-5, 5, 11))\n",
    "LassCV.fit(X_train, y_train)\n",
    "print(f\"alpha={LassCV.alpha_:.5f}\")\n",
    "\n",
    "Lasso_LassCV_r2 = r2_score(y_test, LassCV.predict(X_test))\n",
    "print(f\"R2 Lasso_LassoCV: {Lasso_LassCV_r2:.6f}\")"
   ]
  },
  {
   "cell_type": "markdown",
   "id": "4f0de7a9",
   "metadata": {},
   "source": [
    "__$Сравнение$ $R^2$:__"
   ]
  },
  {
   "cell_type": "code",
   "execution_count": 16,
   "id": "31afb598",
   "metadata": {},
   "outputs": [
    {
     "name": "stdout",
     "output_type": "stream",
     "text": [
      "R2 Linear regression:                 0.668483\n",
      "\n",
      "R2 Ridge regression Default:          0.665961\n",
      "R2 Ridge regression withGridSearchCV: 0.668483\n",
      "R2 Ridge regression withRidgeCV:      0.668475\n",
      "\n",
      "R2 Lasso regression Default:          0.666869\n",
      "R2 Lasso regression withGridSearchCV: 0.668483\n",
      "R2 Lasso regression withLassoCV:      0.668483\n"
     ]
    }
   ],
   "source": [
    "print(f\"R2 Linear regression:                 {lr_r2:.6f}\")\n",
    "print()\n",
    "print(f\"R2 Ridge regression Default:          {ridge_r2:.6f}\")\n",
    "print(f\"R2 Ridge regression withGridSearchCV: {Ridge_GSCV_r2:.6f}\")\n",
    "print(f\"R2 Ridge regression withRidgeCV:      {Ridge_RidCV_r2:.6f}\")\n",
    "print()\n",
    "print(f\"R2 Lasso regression Default:          {ls_r2:.6f}\")\n",
    "print(f\"R2 Lasso regression withGridSearchCV: {Lasso_GSCV_r2:.6f}\")\n",
    "print(f\"R2 Lasso regression withLassoCV:      {Lasso_LassCV_r2:.6f}\")"
   ]
  },
  {
   "cell_type": "code",
   "execution_count": 17,
   "id": "7543fa44",
   "metadata": {},
   "outputs": [],
   "source": [
    "r2_ridge_grid_search = Ridge_GSCV_r2\n",
    "r2_ridge_cv = Ridge_RidCV_r2\n",
    "r2_lasso_grid_search = Lasso_GSCV_r2\n",
    "r2_lasso_cv = Lasso_LassCV_r2\n",
    "results_regression.loc[3] = ['Ridge_GridSearchCV', 'task3', r2_ridge_grid_search]\n",
    "results_regression.loc[4] = ['RidgeCV', 'task3', r2_ridge_cv]\n",
    "results_regression.loc[5] = ['Lasso_GridSearchCV', 'task3', r2_lasso_grid_search]\n",
    "results_regression.loc[6] = ['LassoCV', 'task3', r2_lasso_cv]"
   ]
  },
  {
   "cell_type": "markdown",
   "id": "11e0206f",
   "metadata": {},
   "source": [
    "Итого:\n",
    "1. $R^2$ для $Ridge$, найденные с помощью $GridSearchCV$ и $RidgeCV$ различаются, но незначительно ($alpha$ отличаются);\n",
    "2. $R^2$ для $Lasso$, найденные с помощью $GridSearchCV$ и $LassoCV$ не различаются ($alpha$ одинаковы);\n",
    "3. $R^2$ и для $Ridge$ и для $Lasso$ найденные с помощью $GridSearchCV$ и $LassoC$ чуть лучше, чем для $Ridge$ и для $Lasso$ по умолч.\n",
    "4. $R^2$ и для $Ridge$ и для $Lasso$ найденные с помощью $GridSearchCV$ и $LassoC$ практачески равен $R^2$ для линейной регрессии "
   ]
  },
  {
   "cell_type": "code",
   "execution_count": null,
   "id": "b7ac8f04",
   "metadata": {},
   "outputs": [],
   "source": []
  },
  {
   "cell_type": "markdown",
   "id": "218e6861",
   "metadata": {},
   "source": [
    "### Проведите масштабирование выборки (используйте $Pipeline$, $StandardScaler$, $MinMaxScaler$), посчитайте $R^2$ для $Ridge$ и $Lasso$ с параметрами по умолчанию и сравните с предыдущими результатами. ###"
   ]
  },
  {
   "cell_type": "code",
   "execution_count": 18,
   "id": "29656f55",
   "metadata": {},
   "outputs": [],
   "source": [
    "from sklearn.preprocessing import StandardScaler\n",
    "from sklearn.preprocessing import MinMaxScaler\n",
    "from sklearn.pipeline import Pipeline"
   ]
  },
  {
   "cell_type": "markdown",
   "id": "49be1de3",
   "metadata": {},
   "source": [
    "1. $StandardScaler:$"
   ]
  },
  {
   "cell_type": "markdown",
   "id": "75c48985",
   "metadata": {},
   "source": [
    "*Эта функция используется для стандартизации набора данных путём вычитания среднего значения и деления на стандартное отклонение $(μ = 0, σ = 1)$*"
   ]
  },
  {
   "cell_type": "code",
   "execution_count": 19,
   "id": "7081369c",
   "metadata": {
    "scrolled": true
   },
   "outputs": [
    {
     "name": "stdout",
     "output_type": "stream",
     "text": [
      "R2_Linear_regression_StandardScaler: 0.668483\n",
      "R2_Ridge_StandardScaler: 0.668190\n",
      "R2_Lasso_StandardScaler: 0.624045\n"
     ]
    }
   ],
   "source": [
    "# Линейная регрессия \n",
    "Linear_StScal = Pipeline(steps = [(\"scaler\", StandardScaler()), (\"regression\", LinearRegression())])\n",
    "Linear_StScal.fit(X_train, y_train)\n",
    "\n",
    "# Расчет R2 для лин.регрессии:\n",
    "Linear_StScal_r2 = r2_score(y_test, Linear_StScal.predict(X_test))\n",
    "print(f\"R2_Linear_regression_StandardScaler: {Linear_StScal_r2:.6f}\")\n",
    "\n",
    "# Ridge \n",
    "Ridge_StScal = Pipeline(steps = [(\"scaler\", StandardScaler()), (\"regression\", Ridge())])\n",
    "Ridge_StScal.fit(X_train, y_train)\n",
    "\n",
    "# Расчет R2 для Ridge:\n",
    "Ridge_StScal_r2 = r2_score(y_test, Ridge_StScal.predict(X_test))\n",
    "print(f\"R2_Ridge_StandardScaler: {Ridge_StScal_r2:.6f}\")\n",
    "\n",
    "# Lasso:\n",
    "Lasso_StScal = Pipeline(steps = [(\"scaler\", StandardScaler()), (\"regression\", Lasso())])\n",
    "Lasso_StScal.fit(X_train, y_train)\n",
    "\n",
    "# Расчет R2 для Lasso:\n",
    "Lasso_StScal_r2 = r2_score(y_test, Lasso_StScal.predict(X_test))\n",
    "print(f\"R2_Lasso_StandardScaler: {Lasso_StScal_r2:.6f}\")"
   ]
  },
  {
   "cell_type": "markdown",
   "id": "9f9ea2b0",
   "metadata": {},
   "source": [
    "$2. MinMaxScaler$:"
   ]
  },
  {
   "cell_type": "markdown",
   "id": "0f00a81b",
   "metadata": {},
   "source": [
    "*Эта функция используется для масштабирования набора данных до определённого диапазона (обычно от 0 до 1).*"
   ]
  },
  {
   "cell_type": "code",
   "execution_count": 20,
   "id": "a18e53ea",
   "metadata": {},
   "outputs": [
    {
     "name": "stdout",
     "output_type": "stream",
     "text": [
      "R2_Linear_MinMaxScaler: 0.668483\n",
      "R2_Ridge_MinMaxScaler: 0.676221\n",
      "R2_Lasso_MinMaxScaler: 0.257392\n"
     ]
    }
   ],
   "source": [
    "# Линейная регрессия:\n",
    "Linear_MinMaxScal = Pipeline(steps = [(\"scaler\", MinMaxScaler()), (\"regression\", LinearRegression())])\n",
    "Linear_MinMaxScal.fit(X_train, y_train)\n",
    "\n",
    "# Расчет R2 для линейной регрессии:\n",
    "Linear_MinMaxScal_r2 = r2_score(y_test, Linear_MinMaxScal.predict(X_test))\n",
    "print(f\"R2_Linear_MinMaxScaler: {Linear_MinMaxScal_r2:.6f}\")\n",
    "\n",
    "# Ridge:\n",
    "Ridge_MinMaxScal = Pipeline(steps = [(\"scaler\", MinMaxScaler()), (\"regression\", Ridge())])\n",
    "Ridge_MinMaxScal.fit(X_train, y_train)\n",
    "\n",
    "# Расчет R2 для Ridge:\n",
    "Ridge_MinMaxScal_r2 = r2_score(y_test, Ridge_MinMaxScal.predict(X_test))\n",
    "print(f\"R2_Ridge_MinMaxScaler: {Ridge_MinMaxScal_r2:.6f}\")\n",
    "\n",
    "# Lasso:\n",
    "Lasso_MinMaxScal = Pipeline(steps = [(\"scaler\", MinMaxScaler()), (\"regression\", Lasso())])\n",
    "Lasso_MinMaxScal.fit(X_train, y_train)\n",
    "\n",
    "# Расчет R2 для Lasso:\n",
    "Lasso_MinMaxScal_r2 = r2_score(y_test, Lasso_MinMaxScal.predict(X_test))\n",
    "print(f\"R2_Lasso_MinMaxScaler: {Lasso_MinMaxScal_r2:.6f}\")"
   ]
  },
  {
   "cell_type": "markdown",
   "id": "4a51ca1e",
   "metadata": {},
   "source": [
    "__$Сравнение$ $R^2$:__"
   ]
  },
  {
   "cell_type": "code",
   "execution_count": 21,
   "id": "cae096b0",
   "metadata": {
    "scrolled": true
   },
   "outputs": [
    {
     "name": "stdout",
     "output_type": "stream",
     "text": [
      "R2_Linear_regression:     0.668483\n",
      "R2_Linear_StandardScaler: 0.668483\n",
      "R2_Linear_MinMaxScaler:   0.668483\n",
      "\n",
      "R2_Ridge_Default:         0.665961\n",
      "R2_Ridge_GridSearchCV:    0.668483\n",
      "R2_Ridge_RidgeCV:         0.668475\n",
      "R2_Ridge_StandardScaler:  0.668190\n",
      "R2_Ridge_MinMaxScaler:    0.676221\n",
      "\n",
      "R2_Lasso_Default:         0.666869\n",
      "R2_Lasso_GridSearchCV:    0.668483\n",
      "R2_Lasso_LassoCV:         0.668483\n",
      "R2_Lasso_StandardScaler:  0.624045\n",
      "R2_Lasso_MinMaxScaler:    0.257392\n"
     ]
    }
   ],
   "source": [
    "print(f\"R2_Linear_regression:     {lr_r2:.6f}\")\n",
    "print(f\"R2_Linear_StandardScaler: {Linear_StScal_r2:.6f}\")\n",
    "print(f\"R2_Linear_MinMaxScaler:   {Linear_MinMaxScal_r2:.6f}\")\n",
    "print()\n",
    "print(f\"R2_Ridge_Default:         {ridge_r2:.6f}\")\n",
    "print(f\"R2_Ridge_GridSearchCV:    {Ridge_GSCV_r2:.6f}\")\n",
    "print(f\"R2_Ridge_RidgeCV:         {Ridge_RidCV_r2:.6f}\")\n",
    "print(f\"R2_Ridge_StandardScaler:  {Ridge_StScal_r2:.6f}\")\n",
    "print(f\"R2_Ridge_MinMaxScaler:    {Ridge_MinMaxScal_r2:.6f}\")\n",
    "print()\n",
    "print(f\"R2_Lasso_Default:         {ls_r2:.6f}\")\n",
    "print(f\"R2_Lasso_GridSearchCV:    {Lasso_GSCV_r2:.6f}\")\n",
    "print(f\"R2_Lasso_LassoCV:         {Lasso_LassCV_r2:.6f}\")\n",
    "print(f\"R2_Lasso_StandardScaler:  {Lasso_StScal_r2:.6f}\")\n",
    "print(f\"R2_Lasso_MinMaxScaler:    {Lasso_MinMaxScal_r2:.6f}\")"
   ]
  },
  {
   "cell_type": "code",
   "execution_count": 22,
   "id": "cec0c45f",
   "metadata": {},
   "outputs": [],
   "source": [
    "r2_ridge_standart_scaler = Linear_StScal_r2\n",
    "r2_ridge_min_max_scaler = Ridge_MinMaxScal_r2\n",
    "r2_lasso_standart_scaler = Lasso_StScal_r2\n",
    "r2_lasso_min_max_scaler = Lasso_MinMaxScal_r2\n",
    "results_regression.loc[7] = ['Ridge_StandardScaler', 'task4', r2_ridge_standart_scaler]\n",
    "results_regression.loc[8] = ['Ridge_MinMaxScaler', 'task4', r2_ridge_min_max_scaler]\n",
    "results_regression.loc[9] = ['Lasso_StandardScaler', 'task4', r2_lasso_standart_scaler]\n",
    "results_regression.loc[10] = ['Lasso_MinMaxScaler', 'task4', r2_lasso_min_max_scaler]"
   ]
  },
  {
   "cell_type": "markdown",
   "id": "ac3fad7a",
   "metadata": {},
   "source": [
    "*1. Коэффициент детерминации у линейной регрессии после масштабирования не изменился*\\\n",
    "*2. Коэффициент детерминации у $Ridge$ после масштабирования $MinMaxScaler$ улучшился*\\\n",
    "*3. Коэффициент детерминации у $Lasso$ после масштабирования сильно ухудшился*"
   ]
  },
  {
   "cell_type": "code",
   "execution_count": null,
   "id": "05f705ee",
   "metadata": {},
   "outputs": [],
   "source": []
  },
  {
   "cell_type": "markdown",
   "id": "e63d59be",
   "metadata": {},
   "source": [
    "### Подберите коэффициент регуляризации для $Ridge$ и $Lasso$ на масштабированных данных, посчитайте $R^2$ и сравните с предыдущими результатами. ###"
   ]
  },
  {
   "cell_type": "markdown",
   "id": "44667990",
   "metadata": {},
   "source": [
    "*Подбор коэффициентов регуляризации для $Ridge$ и $Lasso$ на масштабированных данных будем проводить с помощью $GridSearchCV$*"
   ]
  },
  {
   "cell_type": "markdown",
   "id": "ee0a6674",
   "metadata": {},
   "source": [
    "$Pipeline$ - функция, используется для создания конвейера шагов предварительной обработки данных и моделирования. Она принимает список кортежей, где каждый кортеж содержит имя шага и соответствующую функцию."
   ]
  },
  {
   "cell_type": "code",
   "execution_count": 23,
   "id": "d2c79693",
   "metadata": {},
   "outputs": [
    {
     "name": "stdout",
     "output_type": "stream",
     "text": [
      "Alpha для Ridge на StandardScaler: 1.0\n",
      "Alpha для Ridge на MinMaxScaler:   0.1\n",
      "Alpha для Lasso на StandardScaler: 0.00001\n",
      "Alpha для Lasso на MinMaxScaler:   0.00001\n",
      "\n",
      "R2_Ridge_StandardScaler: 0.668190\n",
      "R2_Ridge_MinMaxScaler: 0.669765\n",
      "R2_Lasso_StandardScaler: 0.668482\n",
      "R2_Lasso_MinMaxScaler: 0.668484\n"
     ]
    }
   ],
   "source": [
    "parameters = {'regression__alpha':np.logspace(-5, 5, 11)}\n",
    "\n",
    "\n",
    "# создаем pipline (StandardScaler и Ridge регрессия)\n",
    "Ridge_StScal = Pipeline(steps = [(\"scaler\", StandardScaler()), (\"regression\", Ridge())])\n",
    "# подбираем коэффициент регуляризации для pipline с помощью GridSearchCV\n",
    "Ridge_StScal_GSCV = GridSearchCV(Ridge_StScal, parameters)\n",
    "Ridge_StScal_GSCV.fit(X_train, y_train)\n",
    "# расчет R2\n",
    "Ridge_StScal_GSCV_r2 = r2_score(y_test, Ridge_StScal_GSCV.predict(X_test))\n",
    "\n",
    "\n",
    "# создаем pipline (MinMaxScaler и Ridge регрессия)\n",
    "Ridge_MinMaxScal = Pipeline(steps = [(\"scaler\", MinMaxScaler()), (\"regression\", Ridge())])\n",
    "# подбираем коэффициент регуляризации для pipline с помощью GridSearchCV\n",
    "Ridge_MinMaxScal_GSCV = GridSearchCV(Ridge_MinMaxScal, parameters)\n",
    "Ridge_MinMaxScal_GSCV.fit(X_train, y_train)\n",
    "# расчет R2 \n",
    "Ridge_MinMaxScal_GSCV_r2 = r2_score(y_test, Ridge_MinMaxScal_GSCV.predict(X_test))\n",
    "\n",
    "\n",
    "# создаем pipline (StandardScaler и Lasso регрессия)\n",
    "Lasso_StScal = Pipeline(steps = [(\"scaler\", StandardScaler()), (\"regression\", Lasso())])\n",
    "# подбираем коэффициент регуляризации для pipline с помощью GridSearchCV\n",
    "Lasso_StScal_GSCV = GridSearchCV(Lasso_StScal, parameters)\n",
    "Lasso_StScal_GSCV.fit(X_train, y_train)\n",
    "# расчет R2 \n",
    "Lasso_StScal_GSCV_r2 = r2_score(y_test, Lasso_StScal_GSCV.predict(X_test))\n",
    "\n",
    "\n",
    "# создаем pipline (MinMaxScaler и Lasso регрессия)\n",
    "Lasso_MinMaxScal = Pipeline(steps = [(\"scaler\", MinMaxScaler()), (\"regression\", Lasso())])\n",
    "# подбираем коэффициент регуляризации для pipline с помощью GridSearchCV\n",
    "Lasso_MinMaxScal_GSCV = GridSearchCV(Lasso_MinMaxScal, parameters)\n",
    "Lasso_MinMaxScal_GSCV.fit(X_train, y_train)\n",
    "# расчет R2 \n",
    "Lasso_MinMaxScal_GSCV_r2 = r2_score(y_test, Lasso_MinMaxScal_GSCV.predict(X_test))\n",
    "\n",
    "# Вывод лучших коэффициентов регуляризации\n",
    "print(f\"Alpha для Ridge на StandardScaler: {Ridge_StScal_GSCV.best_params_.get('regression__alpha')}\")\n",
    "print(f\"Alpha для Ridge на MinMaxScaler:   {Ridge_MinMaxScal_GSCV.best_params_.get('regression__alpha')}\")\n",
    "print(f\"Alpha для Lasso на StandardScaler: {Lasso_StScal_GSCV.best_params_.get('regression__alpha'):.5f}\")\n",
    "print(f\"Alpha для Lasso на MinMaxScaler:   {Lasso_MinMaxScal_GSCV.best_params_.get('regression__alpha'):.5f}\")\n",
    "print()\n",
    "\n",
    "# Вывод R2\n",
    "print(f\"R2_Ridge_StandardScaler: {Ridge_StScal_GSCV_r2:.6f}\")\n",
    "print(f\"R2_Ridge_MinMaxScaler: {Ridge_MinMaxScal_GSCV_r2:.6f}\")\n",
    "print(f\"R2_Lasso_StandardScaler: {Lasso_StScal_GSCV_r2:.6f}\")\n",
    "print(f\"R2_Lasso_MinMaxScaler: {Lasso_MinMaxScal_GSCV_r2:.6f}\")"
   ]
  },
  {
   "cell_type": "code",
   "execution_count": 24,
   "id": "f7a62100",
   "metadata": {},
   "outputs": [],
   "source": [
    "r2_ridge_standart_scaler_cv = Ridge_StScal_GSCV_r2\n",
    "r2_ridge_min_max_scaler_cv = Ridge_MinMaxScal_GSCV_r2\n",
    "r2_lasso_standart_scaler_cv = Lasso_StScal_GSCV_r2\n",
    "r2_lasso_min_max_scaler_cv = Lasso_MinMaxScal_GSCV_r2\n",
    "results_regression.loc[11] = ['Ridge_StandardScaler_CV', 'task5', r2_ridge_standart_scaler_cv]\n",
    "results_regression.loc[12] = ['Ridge_MinMaxScaler_CV', 'task5', r2_ridge_min_max_scaler_cv]\n",
    "results_regression.loc[13] = ['Lasso_StandardScaler_CV', 'task5', r2_lasso_standart_scaler_cv]\n",
    "results_regression.loc[14] = ['Lasso_MinMaxScaler_CV', 'task5', r2_lasso_min_max_scaler_cv]"
   ]
  },
  {
   "cell_type": "markdown",
   "id": "c55c4d18",
   "metadata": {},
   "source": [
    "*1. Для Ridge подбор коэффициентов регуляризации немного ухудшил качество модели*\\\n",
    "*2. Для Lasso подбор коэффициентов регуляризации значительно улучшил качество модели*"
   ]
  },
  {
   "cell_type": "code",
   "execution_count": null,
   "id": "c0903033",
   "metadata": {},
   "outputs": [],
   "source": []
  },
  {
   "cell_type": "markdown",
   "id": "5e724d75",
   "metadata": {},
   "source": [
    "### Добавьте попарные произведения признаков и их квадраты (используйте $PolynomialFeatures$) на масштабированных признаках, посчитайте $R^2$ для $Ridge$ и $Lasso$ с параметрами по умолчанию и сравните с предыдущими результатами. ###"
   ]
  },
  {
   "cell_type": "markdown",
   "id": "76133bfc",
   "metadata": {},
   "source": [
    "$PolynomialFeatures$ - функция, используется для создания полиномиальных признаков из набора данных. В качестве параметра принимает степень многочлена.\n"
   ]
  },
  {
   "cell_type": "code",
   "execution_count": 25,
   "id": "623cf332",
   "metadata": {},
   "outputs": [
    {
     "name": "stdout",
     "output_type": "stream",
     "text": [
      "R2_Ridge_StandardScaler: 0.817136\n",
      "R2_Ridge_MinMaxScaler: 0.829886\n",
      "R2_Lasso_StandardScaler: 0.732274\n",
      "R2_Lasso_MinMaxScaler: 0.261126\n"
     ]
    }
   ],
   "source": [
    "from sklearn.preprocessing import PolynomialFeatures\n",
    "\n",
    "# создаем pipline (StandardScaler, PolynomialFeatures и Ridge регрессия)\n",
    "Ridge_StScal_Polynom = Pipeline(steps = [(\"scaler\", StandardScaler()), (\"polynomial\", PolynomialFeatures(degree=2)), (\"regression\", Ridge())])\n",
    "Ridge_StScal_Polynom.fit(X_train, y_train)\n",
    "Ridge_StScal_Polynom.predict(X_test)\n",
    "Ridge_StScal_Polynom_r2 = r2_score(y_test, Ridge_StScal_Polynom.predict(X_test))\n",
    "\n",
    "# создаем pipline (MinMaxScaler, PolynomialFeatures и Ridge регрессия)\n",
    "Ridge_MinMaxScal_Polynom = Pipeline(steps = [(\"scaler\", MinMaxScaler()), (\"polynomial\", PolynomialFeatures(degree=2)), (\"regression\", Ridge())])\n",
    "Ridge_MinMaxScal_Polynom.fit(X_train, y_train)\n",
    "Ridge_MinMaxScal_Polynom.predict(X_test)\n",
    "Ridge_MinMaxScal_Polynom_r2 = r2_score(y_test, Ridge_MinMaxScal_Polynom.predict(X_test))\n",
    "\n",
    "# создаем pipline (StandardScaler, PolynomialFeatures и Lasso регрессия)\n",
    "Lasso_StScal_Polynom = Pipeline(steps = [(\"scaler\", StandardScaler()), (\"polynomial\", PolynomialFeatures(degree=2)), (\"regression\", Lasso())])\n",
    "Lasso_StScal_Polynom.fit(X_train, y_train)\n",
    "Lasso_StScal_Polynom.predict(X_test)\n",
    "Lasso_StScal_Polynom_r2 = r2_score(y_test, Lasso_StScal_Polynom.predict(X_test))\n",
    "\n",
    "# создаем pipline (MinMaxScaler, PolynomialFeatures и Lasso регрессия)\n",
    "Lasso_MinMaxScal_Polynom = Pipeline(steps = [(\"scaler\", MinMaxScaler()), (\"polynomial\", PolynomialFeatures(degree=2)), (\"regression\", Lasso())])\n",
    "Lasso_MinMaxScal_Polynom.fit(X_train, y_train)\n",
    "Lasso_MinMaxScal_Polynom.predict(X_test)\n",
    "Lasso_MinMaxScal_Polynom_r2 = r2_score(y_test, Lasso_MinMaxScal_Polynom.predict(X_test))\n",
    "\n",
    "# R2\n",
    "print(f\"R2_Ridge_StandardScaler: {Ridge_StScal_Polynom_r2:.6f}\")\n",
    "print(f\"R2_Ridge_MinMaxScaler: {Ridge_MinMaxScal_Polynom_r2:.6f}\")\n",
    "print(f\"R2_Lasso_StandardScaler: {Lasso_StScal_Polynom_r2:.6f}\")\n",
    "print(f\"R2_Lasso_MinMaxScaler: {Lasso_MinMaxScal_Polynom_r2:.6f}\")\n"
   ]
  },
  {
   "cell_type": "markdown",
   "id": "c4807852",
   "metadata": {},
   "source": [
    "$R^2$ сильно улучшился"
   ]
  },
  {
   "cell_type": "code",
   "execution_count": 26,
   "id": "87b8a503",
   "metadata": {},
   "outputs": [],
   "source": [
    "r2_ridge_standart_scaler_poly = Ridge_StScal_Polynom_r2\n",
    "r2_ridge_min_max_scaler_poly = Ridge_MinMaxScal_Polynom_r2\n",
    "r2_lasso_standart_scaler_poly = Lasso_StScal_Polynom_r2\n",
    "r2_lasso_min_max_scaler_poly = Lasso_MinMaxScal_Polynom_r2\n",
    "results_regression.loc[15] = ['Ridge_StandardScaler_Poly', 'task6', r2_ridge_standart_scaler_poly]\n",
    "results_regression.loc[16] = ['Ridge_MinMaxScaler_Poly', 'task6', r2_ridge_min_max_scaler_poly]\n",
    "results_regression.loc[17] = ['Lasso_StandardScaler_Poly', 'task6', r2_lasso_standart_scaler_poly]\n",
    "results_regression.loc[18] = ['Lasso_MinMaxScaler_Poly', 'task6', r2_lasso_min_max_scaler_poly]"
   ]
  },
  {
   "cell_type": "markdown",
   "id": "b248b14a",
   "metadata": {},
   "source": [
    "### Подберите коэффициент регуляризации для $Ridge$ и $Lasso$ на масштабированных данных, добавив $PolynomialFeatures$, посчитайте $R^2$ и сравните с предыдущими результатами. ###"
   ]
  },
  {
   "cell_type": "markdown",
   "id": "e62dd5d6",
   "metadata": {},
   "source": [
    "*Подбор коэффициентов регуляризации для $Ridge$ и $Lasso$ на масштабированных данных будем проводить с помощью $GridSearchCV$*"
   ]
  },
  {
   "cell_type": "code",
   "execution_count": 29,
   "id": "5b1c59c4",
   "metadata": {},
   "outputs": [
    {
     "name": "stdout",
     "output_type": "stream",
     "text": [
      "R2_Ridge_StandardScaler_PolynomialFeatures_GridSearchCV: 0.818734\n",
      "R2_Ridge_MinMaxScaler_PolynomialFeatures_GridSearchCV:   0.850140\n",
      "R2_Lasso_StandardScaler_PolynomialFeatures_GridSearchCV: 0.812814\n",
      "R2_Lasso_MinMaxScaler_PolynomialFeatures_GridSearchCV:   0.839702\n"
     ]
    }
   ],
   "source": [
    "parameters = {'regression__alpha':np.logspace(-5, 5, 11)}\n",
    "\n",
    "# создаем pipline (StandardScaler, PolynomialFeatures и Ridge регрессия) с подбором коэффициента с помощью GridSearchCV\n",
    "Ridge_StScal_Polynom = Pipeline(steps = [(\"scaler\", StandardScaler()), (\"polynomial\", PolynomialFeatures(degree=2)), (\"regression\", Ridge())])\n",
    "Ridge_StScal_Polynom_GSCV = GridSearchCV(Ridge_StScal_Polynom, parameters)\n",
    "Ridge_StScal_Polynom_GSCV.fit(X_train, y_train)\n",
    "Ridge_StScal_Polynom_GSCV_r2 = r2_score(y_test, Ridge_StScal_Polynom_GSCV.predict(X_test))\n",
    "\n",
    "# создаем pipline (MinMaxScaler, PolynomialFeatures и Ridge регрессия) с подбором коэффициента с помощью GridSearchCV\n",
    "Ridge_MinMaxScal_Polynom = Pipeline(steps = [(\"scaler\", MinMaxScaler()), (\"polynomial\", PolynomialFeatures(degree=2)), (\"regression\", Ridge())])\n",
    "Ridge_MinMaxScal_Polynom_GSCV = GridSearchCV(Ridge_MinMaxScal_Polynom, parameters)\n",
    "Ridge_MinMaxScal_Polynom_GSCV.fit(X_train, y_train)\n",
    "Ridge_MinMaxScal_Polynom_GSCV_r2 = r2_score(y_test, Ridge_MinMaxScal_Polynom_GSCV.predict(X_test))\n",
    "\n",
    "# создаем pipline (StandardScaler, PolynomialFeatures и Lasso регрессия) с подбором коэффициента с помощью GridSearchCV\n",
    "Lasso_StScal_Polynom = Pipeline(steps = [(\"scaler\", StandardScaler()), (\"polynomial\", PolynomialFeatures(degree=2)), (\"regression\", Lasso())])\n",
    "Lasso_StScal_Polynom_GSCV = GridSearchCV(Lasso_StScal_Polynom, parameters)\n",
    "Lasso_StScal_Polynom_GSCV.fit(X_train, y_train)\n",
    "Lasso_StScal_Polynom_GSCV_r2 = r2_score(y_test, Lasso_StScal_Polynom_GSCV.predict(X_test))\n",
    "\n",
    "# создаем pipline (MinMaxScaler, PolynomialFeatures и Lasso регрессия) с подбором коэффициента с помощью GridSearchCV\n",
    "Lasso_MinMaxScal_Polynom = Pipeline(steps = [(\"scaler\", MinMaxScaler()), (\"polynomial\", PolynomialFeatures(degree=2)), (\"regression\", Lasso())])\n",
    "Lasso_MinMaxScal_Polynom_GSCV = GridSearchCV(Lasso_MinMaxScal_Polynom, parameters)\n",
    "Lasso_MinMaxScal_Polynom_GSCV.fit(X_train, y_train)\n",
    "Lasso_MinMaxScal_Polynom_GSCV_r2 = r2_score(y_test, Lasso_MinMaxScal_Polynom_GSCV.predict(X_test))\n",
    "\n",
    "# вывод R2\n",
    "print(f\"R2_Ridge_StandardScaler_PolynomialFeatures_GridSearchCV: {Ridge_StScal_Polynom_GSCV_r2:.6f}\")\n",
    "print(f\"R2_Ridge_MinMaxScaler_PolynomialFeatures_GridSearchCV:   {Ridge_MinMaxScal_Polynom_GSCV_r2:.6f}\")\n",
    "print(f\"R2_Lasso_StandardScaler_PolynomialFeatures_GridSearchCV: {Lasso_StScal_Polynom_GSCV_r2:.6f}\")\n",
    "print(f\"R2_Lasso_MinMaxScaler_PolynomialFeatures_GridSearchCV:   {Lasso_MinMaxScal_Polynom_GSCV_r2:.6f}\")\n"
   ]
  },
  {
   "cell_type": "code",
   "execution_count": 30,
   "id": "8746c36b",
   "metadata": {},
   "outputs": [],
   "source": [
    "r2_ridge_standart_scaler_poly_cv = Ridge_StScal_Polynom_GSCV_r2\n",
    "r2_ridge_min_max_scaler_poly_cv = Ridge_MinMaxScal_Polynom_GSCV_r2\n",
    "r2_lasso_standart_scaler_poly_cv = Lasso_StScal_Polynom_GSCV_r2\n",
    "r2_lasso_min_max_scaler_poly_cv = Lasso_MinMaxScal_Polynom_GSCV_r2\n",
    "results_regression.loc[19] = ['Ridge_StandardScaler_Poly_CV', 'task7', r2_ridge_standart_scaler_poly_cv]\n",
    "results_regression.loc[20] = ['Ridge_MinMaxScaler_Poly_CV', 'task7', r2_ridge_min_max_scaler_poly_cv]\n",
    "results_regression.loc[21] = ['Lasso_StandardScaler_Poly_CV', 'task7', r2_lasso_standart_scaler_poly_cv]\n",
    "results_regression.loc[22] = ['Lasso_MinMaxScaler_Poly_CV', 'task7', r2_lasso_min_max_scaler_poly_cv]"
   ]
  },
  {
   "cell_type": "markdown",
   "id": "d2c5a556",
   "metadata": {},
   "source": [
    "### Подберите наилучшую модель (используйте $Pipeline$, $GridSearchSCV$) подбирая тип регуляризации ($L1$,$L2$), коэффициент регуляризации, метод масштабирования и степень полинома в $PolynomialFeatures$. Выведите итоговые параметры и результат $R^2$. ###"
   ]
  },
  {
   "cell_type": "code",
   "execution_count": 31,
   "id": "ae210c33",
   "metadata": {},
   "outputs": [],
   "source": [
    "pipeline = Pipeline([('imputer', StandardScaler()),\n",
    "                     ('polynomial', PolynomialFeatures()),\n",
    "                     ('regression', Lasso())])\n",
    "parameters = {'imputer':[StandardScaler(), MinMaxScaler()],\n",
    "              'polynomial__degree':np.arange(1,6,1),\n",
    "              'regression':[Lasso(), Ridge()],\n",
    "              'regression__alpha':np.logspace(-5, 5, 11)}\n",
    "select_model = GridSearchCV(pipeline, parameters, scoring='r2')\n"
   ]
  },
  {
   "cell_type": "code",
   "execution_count": 33,
   "id": "ab35c786",
   "metadata": {},
   "outputs": [
    {
     "data": {
      "text/html": [
       "<style>#sk-container-id-1 {color: black;}#sk-container-id-1 pre{padding: 0;}#sk-container-id-1 div.sk-toggleable {background-color: white;}#sk-container-id-1 label.sk-toggleable__label {cursor: pointer;display: block;width: 100%;margin-bottom: 0;padding: 0.3em;box-sizing: border-box;text-align: center;}#sk-container-id-1 label.sk-toggleable__label-arrow:before {content: \"▸\";float: left;margin-right: 0.25em;color: #696969;}#sk-container-id-1 label.sk-toggleable__label-arrow:hover:before {color: black;}#sk-container-id-1 div.sk-estimator:hover label.sk-toggleable__label-arrow:before {color: black;}#sk-container-id-1 div.sk-toggleable__content {max-height: 0;max-width: 0;overflow: hidden;text-align: left;background-color: #f0f8ff;}#sk-container-id-1 div.sk-toggleable__content pre {margin: 0.2em;color: black;border-radius: 0.25em;background-color: #f0f8ff;}#sk-container-id-1 input.sk-toggleable__control:checked~div.sk-toggleable__content {max-height: 200px;max-width: 100%;overflow: auto;}#sk-container-id-1 input.sk-toggleable__control:checked~label.sk-toggleable__label-arrow:before {content: \"▾\";}#sk-container-id-1 div.sk-estimator input.sk-toggleable__control:checked~label.sk-toggleable__label {background-color: #d4ebff;}#sk-container-id-1 div.sk-label input.sk-toggleable__control:checked~label.sk-toggleable__label {background-color: #d4ebff;}#sk-container-id-1 input.sk-hidden--visually {border: 0;clip: rect(1px 1px 1px 1px);clip: rect(1px, 1px, 1px, 1px);height: 1px;margin: -1px;overflow: hidden;padding: 0;position: absolute;width: 1px;}#sk-container-id-1 div.sk-estimator {font-family: monospace;background-color: #f0f8ff;border: 1px dotted black;border-radius: 0.25em;box-sizing: border-box;margin-bottom: 0.5em;}#sk-container-id-1 div.sk-estimator:hover {background-color: #d4ebff;}#sk-container-id-1 div.sk-parallel-item::after {content: \"\";width: 100%;border-bottom: 1px solid gray;flex-grow: 1;}#sk-container-id-1 div.sk-label:hover label.sk-toggleable__label {background-color: #d4ebff;}#sk-container-id-1 div.sk-serial::before {content: \"\";position: absolute;border-left: 1px solid gray;box-sizing: border-box;top: 0;bottom: 0;left: 50%;z-index: 0;}#sk-container-id-1 div.sk-serial {display: flex;flex-direction: column;align-items: center;background-color: white;padding-right: 0.2em;padding-left: 0.2em;position: relative;}#sk-container-id-1 div.sk-item {position: relative;z-index: 1;}#sk-container-id-1 div.sk-parallel {display: flex;align-items: stretch;justify-content: center;background-color: white;position: relative;}#sk-container-id-1 div.sk-item::before, #sk-container-id-1 div.sk-parallel-item::before {content: \"\";position: absolute;border-left: 1px solid gray;box-sizing: border-box;top: 0;bottom: 0;left: 50%;z-index: -1;}#sk-container-id-1 div.sk-parallel-item {display: flex;flex-direction: column;z-index: 1;position: relative;background-color: white;}#sk-container-id-1 div.sk-parallel-item:first-child::after {align-self: flex-end;width: 50%;}#sk-container-id-1 div.sk-parallel-item:last-child::after {align-self: flex-start;width: 50%;}#sk-container-id-1 div.sk-parallel-item:only-child::after {width: 0;}#sk-container-id-1 div.sk-dashed-wrapped {border: 1px dashed gray;margin: 0 0.4em 0.5em 0.4em;box-sizing: border-box;padding-bottom: 0.4em;background-color: white;}#sk-container-id-1 div.sk-label label {font-family: monospace;font-weight: bold;display: inline-block;line-height: 1.2em;}#sk-container-id-1 div.sk-label-container {text-align: center;}#sk-container-id-1 div.sk-container {/* jupyter's `normalize.less` sets `[hidden] { display: none; }` but bootstrap.min.css set `[hidden] { display: none !important; }` so we also need the `!important` here to be able to override the default hidden behavior on the sphinx rendered scikit-learn.org. See: https://github.com/scikit-learn/scikit-learn/issues/21755 */display: inline-block !important;position: relative;}#sk-container-id-1 div.sk-text-repr-fallback {display: none;}</style><div id=\"sk-container-id-1\" class=\"sk-top-container\"><div class=\"sk-text-repr-fallback\"><pre>GridSearchCV(estimator=Pipeline(steps=[(&#x27;imputer&#x27;, StandardScaler()),\n",
       "                                       (&#x27;polynomial&#x27;, PolynomialFeatures()),\n",
       "                                       (&#x27;regression&#x27;, Lasso())]),\n",
       "             param_grid={&#x27;imputer&#x27;: [StandardScaler(), MinMaxScaler()],\n",
       "                         &#x27;polynomial__degree&#x27;: array([1, 2, 3, 4, 5]),\n",
       "                         &#x27;regression&#x27;: [Lasso(), Ridge()],\n",
       "                         &#x27;regression__alpha&#x27;: array([1.e-05, 1.e-04, 1.e-03, 1.e-02, 1.e-01, 1.e+00, 1.e+01, 1.e+02,\n",
       "       1.e+03, 1.e+04, 1.e+05])},\n",
       "             scoring=&#x27;r2&#x27;)</pre><b>In a Jupyter environment, please rerun this cell to show the HTML representation or trust the notebook. <br />On GitHub, the HTML representation is unable to render, please try loading this page with nbviewer.org.</b></div><div class=\"sk-container\" hidden><div class=\"sk-item sk-dashed-wrapped\"><div class=\"sk-label-container\"><div class=\"sk-label sk-toggleable\"><input class=\"sk-toggleable__control sk-hidden--visually\" id=\"sk-estimator-id-1\" type=\"checkbox\" ><label for=\"sk-estimator-id-1\" class=\"sk-toggleable__label sk-toggleable__label-arrow\">GridSearchCV</label><div class=\"sk-toggleable__content\"><pre>GridSearchCV(estimator=Pipeline(steps=[(&#x27;imputer&#x27;, StandardScaler()),\n",
       "                                       (&#x27;polynomial&#x27;, PolynomialFeatures()),\n",
       "                                       (&#x27;regression&#x27;, Lasso())]),\n",
       "             param_grid={&#x27;imputer&#x27;: [StandardScaler(), MinMaxScaler()],\n",
       "                         &#x27;polynomial__degree&#x27;: array([1, 2, 3, 4, 5]),\n",
       "                         &#x27;regression&#x27;: [Lasso(), Ridge()],\n",
       "                         &#x27;regression__alpha&#x27;: array([1.e-05, 1.e-04, 1.e-03, 1.e-02, 1.e-01, 1.e+00, 1.e+01, 1.e+02,\n",
       "       1.e+03, 1.e+04, 1.e+05])},\n",
       "             scoring=&#x27;r2&#x27;)</pre></div></div></div><div class=\"sk-parallel\"><div class=\"sk-parallel-item\"><div class=\"sk-item\"><div class=\"sk-label-container\"><div class=\"sk-label sk-toggleable\"><input class=\"sk-toggleable__control sk-hidden--visually\" id=\"sk-estimator-id-2\" type=\"checkbox\" ><label for=\"sk-estimator-id-2\" class=\"sk-toggleable__label sk-toggleable__label-arrow\">estimator: Pipeline</label><div class=\"sk-toggleable__content\"><pre>Pipeline(steps=[(&#x27;imputer&#x27;, StandardScaler()),\n",
       "                (&#x27;polynomial&#x27;, PolynomialFeatures()), (&#x27;regression&#x27;, Lasso())])</pre></div></div></div><div class=\"sk-serial\"><div class=\"sk-item\"><div class=\"sk-serial\"><div class=\"sk-item\"><div class=\"sk-estimator sk-toggleable\"><input class=\"sk-toggleable__control sk-hidden--visually\" id=\"sk-estimator-id-3\" type=\"checkbox\" ><label for=\"sk-estimator-id-3\" class=\"sk-toggleable__label sk-toggleable__label-arrow\">StandardScaler</label><div class=\"sk-toggleable__content\"><pre>StandardScaler()</pre></div></div></div><div class=\"sk-item\"><div class=\"sk-estimator sk-toggleable\"><input class=\"sk-toggleable__control sk-hidden--visually\" id=\"sk-estimator-id-4\" type=\"checkbox\" ><label for=\"sk-estimator-id-4\" class=\"sk-toggleable__label sk-toggleable__label-arrow\">PolynomialFeatures</label><div class=\"sk-toggleable__content\"><pre>PolynomialFeatures()</pre></div></div></div><div class=\"sk-item\"><div class=\"sk-estimator sk-toggleable\"><input class=\"sk-toggleable__control sk-hidden--visually\" id=\"sk-estimator-id-5\" type=\"checkbox\" ><label for=\"sk-estimator-id-5\" class=\"sk-toggleable__label sk-toggleable__label-arrow\">Lasso</label><div class=\"sk-toggleable__content\"><pre>Lasso()</pre></div></div></div></div></div></div></div></div></div></div></div></div>"
      ],
      "text/plain": [
       "GridSearchCV(estimator=Pipeline(steps=[('imputer', StandardScaler()),\n",
       "                                       ('polynomial', PolynomialFeatures()),\n",
       "                                       ('regression', Lasso())]),\n",
       "             param_grid={'imputer': [StandardScaler(), MinMaxScaler()],\n",
       "                         'polynomial__degree': array([1, 2, 3, 4, 5]),\n",
       "                         'regression': [Lasso(), Ridge()],\n",
       "                         'regression__alpha': array([1.e-05, 1.e-04, 1.e-03, 1.e-02, 1.e-01, 1.e+00, 1.e+01, 1.e+02,\n",
       "       1.e+03, 1.e+04, 1.e+05])},\n",
       "             scoring='r2')"
      ]
     },
     "execution_count": 33,
     "metadata": {},
     "output_type": "execute_result"
    }
   ],
   "source": [
    "select_model.fit(X_train, y_train)\n"
   ]
  },
  {
   "cell_type": "code",
   "execution_count": 34,
   "id": "8aedb22c",
   "metadata": {},
   "outputs": [
    {
     "data": {
      "text/html": [
       "<style>#sk-container-id-2 {color: black;}#sk-container-id-2 pre{padding: 0;}#sk-container-id-2 div.sk-toggleable {background-color: white;}#sk-container-id-2 label.sk-toggleable__label {cursor: pointer;display: block;width: 100%;margin-bottom: 0;padding: 0.3em;box-sizing: border-box;text-align: center;}#sk-container-id-2 label.sk-toggleable__label-arrow:before {content: \"▸\";float: left;margin-right: 0.25em;color: #696969;}#sk-container-id-2 label.sk-toggleable__label-arrow:hover:before {color: black;}#sk-container-id-2 div.sk-estimator:hover label.sk-toggleable__label-arrow:before {color: black;}#sk-container-id-2 div.sk-toggleable__content {max-height: 0;max-width: 0;overflow: hidden;text-align: left;background-color: #f0f8ff;}#sk-container-id-2 div.sk-toggleable__content pre {margin: 0.2em;color: black;border-radius: 0.25em;background-color: #f0f8ff;}#sk-container-id-2 input.sk-toggleable__control:checked~div.sk-toggleable__content {max-height: 200px;max-width: 100%;overflow: auto;}#sk-container-id-2 input.sk-toggleable__control:checked~label.sk-toggleable__label-arrow:before {content: \"▾\";}#sk-container-id-2 div.sk-estimator input.sk-toggleable__control:checked~label.sk-toggleable__label {background-color: #d4ebff;}#sk-container-id-2 div.sk-label input.sk-toggleable__control:checked~label.sk-toggleable__label {background-color: #d4ebff;}#sk-container-id-2 input.sk-hidden--visually {border: 0;clip: rect(1px 1px 1px 1px);clip: rect(1px, 1px, 1px, 1px);height: 1px;margin: -1px;overflow: hidden;padding: 0;position: absolute;width: 1px;}#sk-container-id-2 div.sk-estimator {font-family: monospace;background-color: #f0f8ff;border: 1px dotted black;border-radius: 0.25em;box-sizing: border-box;margin-bottom: 0.5em;}#sk-container-id-2 div.sk-estimator:hover {background-color: #d4ebff;}#sk-container-id-2 div.sk-parallel-item::after {content: \"\";width: 100%;border-bottom: 1px solid gray;flex-grow: 1;}#sk-container-id-2 div.sk-label:hover label.sk-toggleable__label {background-color: #d4ebff;}#sk-container-id-2 div.sk-serial::before {content: \"\";position: absolute;border-left: 1px solid gray;box-sizing: border-box;top: 0;bottom: 0;left: 50%;z-index: 0;}#sk-container-id-2 div.sk-serial {display: flex;flex-direction: column;align-items: center;background-color: white;padding-right: 0.2em;padding-left: 0.2em;position: relative;}#sk-container-id-2 div.sk-item {position: relative;z-index: 1;}#sk-container-id-2 div.sk-parallel {display: flex;align-items: stretch;justify-content: center;background-color: white;position: relative;}#sk-container-id-2 div.sk-item::before, #sk-container-id-2 div.sk-parallel-item::before {content: \"\";position: absolute;border-left: 1px solid gray;box-sizing: border-box;top: 0;bottom: 0;left: 50%;z-index: -1;}#sk-container-id-2 div.sk-parallel-item {display: flex;flex-direction: column;z-index: 1;position: relative;background-color: white;}#sk-container-id-2 div.sk-parallel-item:first-child::after {align-self: flex-end;width: 50%;}#sk-container-id-2 div.sk-parallel-item:last-child::after {align-self: flex-start;width: 50%;}#sk-container-id-2 div.sk-parallel-item:only-child::after {width: 0;}#sk-container-id-2 div.sk-dashed-wrapped {border: 1px dashed gray;margin: 0 0.4em 0.5em 0.4em;box-sizing: border-box;padding-bottom: 0.4em;background-color: white;}#sk-container-id-2 div.sk-label label {font-family: monospace;font-weight: bold;display: inline-block;line-height: 1.2em;}#sk-container-id-2 div.sk-label-container {text-align: center;}#sk-container-id-2 div.sk-container {/* jupyter's `normalize.less` sets `[hidden] { display: none; }` but bootstrap.min.css set `[hidden] { display: none !important; }` so we also need the `!important` here to be able to override the default hidden behavior on the sphinx rendered scikit-learn.org. See: https://github.com/scikit-learn/scikit-learn/issues/21755 */display: inline-block !important;position: relative;}#sk-container-id-2 div.sk-text-repr-fallback {display: none;}</style><div id=\"sk-container-id-2\" class=\"sk-top-container\"><div class=\"sk-text-repr-fallback\"><pre>Pipeline(steps=[(&#x27;imputer&#x27;, MinMaxScaler()),\n",
       "                (&#x27;polynomial&#x27;, PolynomialFeatures(degree=5)),\n",
       "                (&#x27;regression&#x27;, Ridge())])</pre><b>In a Jupyter environment, please rerun this cell to show the HTML representation or trust the notebook. <br />On GitHub, the HTML representation is unable to render, please try loading this page with nbviewer.org.</b></div><div class=\"sk-container\" hidden><div class=\"sk-item sk-dashed-wrapped\"><div class=\"sk-label-container\"><div class=\"sk-label sk-toggleable\"><input class=\"sk-toggleable__control sk-hidden--visually\" id=\"sk-estimator-id-6\" type=\"checkbox\" ><label for=\"sk-estimator-id-6\" class=\"sk-toggleable__label sk-toggleable__label-arrow\">Pipeline</label><div class=\"sk-toggleable__content\"><pre>Pipeline(steps=[(&#x27;imputer&#x27;, MinMaxScaler()),\n",
       "                (&#x27;polynomial&#x27;, PolynomialFeatures(degree=5)),\n",
       "                (&#x27;regression&#x27;, Ridge())])</pre></div></div></div><div class=\"sk-serial\"><div class=\"sk-item\"><div class=\"sk-estimator sk-toggleable\"><input class=\"sk-toggleable__control sk-hidden--visually\" id=\"sk-estimator-id-7\" type=\"checkbox\" ><label for=\"sk-estimator-id-7\" class=\"sk-toggleable__label sk-toggleable__label-arrow\">MinMaxScaler</label><div class=\"sk-toggleable__content\"><pre>MinMaxScaler()</pre></div></div></div><div class=\"sk-item\"><div class=\"sk-estimator sk-toggleable\"><input class=\"sk-toggleable__control sk-hidden--visually\" id=\"sk-estimator-id-8\" type=\"checkbox\" ><label for=\"sk-estimator-id-8\" class=\"sk-toggleable__label sk-toggleable__label-arrow\">PolynomialFeatures</label><div class=\"sk-toggleable__content\"><pre>PolynomialFeatures(degree=5)</pre></div></div></div><div class=\"sk-item\"><div class=\"sk-estimator sk-toggleable\"><input class=\"sk-toggleable__control sk-hidden--visually\" id=\"sk-estimator-id-9\" type=\"checkbox\" ><label for=\"sk-estimator-id-9\" class=\"sk-toggleable__label sk-toggleable__label-arrow\">Ridge</label><div class=\"sk-toggleable__content\"><pre>Ridge()</pre></div></div></div></div></div></div></div>"
      ],
      "text/plain": [
       "Pipeline(steps=[('imputer', MinMaxScaler()),\n",
       "                ('polynomial', PolynomialFeatures(degree=5)),\n",
       "                ('regression', Ridge())])"
      ]
     },
     "execution_count": 34,
     "metadata": {},
     "output_type": "execute_result"
    }
   ],
   "source": [
    "select_model.best_estimator_"
   ]
  },
  {
   "cell_type": "code",
   "execution_count": 35,
   "id": "4ad36c79",
   "metadata": {
    "scrolled": false
   },
   "outputs": [
    {
     "data": {
      "text/plain": [
       "{'imputer': MinMaxScaler(),\n",
       " 'polynomial__degree': 5,\n",
       " 'regression': Ridge(),\n",
       " 'regression__alpha': 1.0}"
      ]
     },
     "execution_count": 35,
     "metadata": {},
     "output_type": "execute_result"
    }
   ],
   "source": [
    "# Лучшие подобранные параметры\n",
    "select_model.best_params_"
   ]
  },
  {
   "cell_type": "code",
   "execution_count": 36,
   "id": "277b74c2",
   "metadata": {},
   "outputs": [
    {
     "name": "stdout",
     "output_type": "stream",
     "text": [
      "R2_Best_model(MinMaxScaler, PolynomialFeatures(degree=5), Ridge(alpha=1)): 0.859881\n"
     ]
    }
   ],
   "source": [
    "Best_model_r2 = r2_score(y_test, select_model.predict(X_test))\n",
    "print(f\"R2_Best_model(MinMaxScaler, PolynomialFeatures(degree=5), Ridge(alpha=1)): {Best_model_r2:.6f}\")"
   ]
  },
  {
   "cell_type": "code",
   "execution_count": 37,
   "id": "0b5de9be",
   "metadata": {},
   "outputs": [
    {
     "name": "stdout",
     "output_type": "stream",
     "text": [
      "Параметры лучшей модели:\n",
      " {'imputer': MinMaxScaler(), 'polynomial__degree': 5, 'regression': Ridge(), 'regression__alpha': 1.0}\n"
     ]
    }
   ],
   "source": [
    "best_params = select_model.best_params_\n",
    "print('Параметры лучшей модели:\\n', best_params)\n",
    "r2_best_model = Best_model_r2\n",
    "results_regression.loc[23] = ['Best_Model', 'task8', r2_best_model]"
   ]
  },
  {
   "cell_type": "code",
   "execution_count": 38,
   "id": "ee3c007a",
   "metadata": {
    "scrolled": true
   },
   "outputs": [
    {
     "data": {
      "text/html": [
       "<div>\n",
       "<style scoped>\n",
       "    .dataframe tbody tr th:only-of-type {\n",
       "        vertical-align: middle;\n",
       "    }\n",
       "\n",
       "    .dataframe tbody tr th {\n",
       "        vertical-align: top;\n",
       "    }\n",
       "\n",
       "    .dataframe thead th {\n",
       "        text-align: right;\n",
       "    }\n",
       "</style>\n",
       "<table border=\"1\" class=\"dataframe\">\n",
       "  <thead>\n",
       "    <tr style=\"text-align: right;\">\n",
       "      <th></th>\n",
       "      <th>model</th>\n",
       "      <th>task</th>\n",
       "      <th>R2</th>\n",
       "    </tr>\n",
       "  </thead>\n",
       "  <tbody>\n",
       "    <tr>\n",
       "      <th>0</th>\n",
       "      <td>LR</td>\n",
       "      <td>task2</td>\n",
       "      <td>0.668483</td>\n",
       "    </tr>\n",
       "    <tr>\n",
       "      <th>1</th>\n",
       "      <td>Ridge</td>\n",
       "      <td>task2</td>\n",
       "      <td>0.665961</td>\n",
       "    </tr>\n",
       "    <tr>\n",
       "      <th>2</th>\n",
       "      <td>Lasso</td>\n",
       "      <td>task2</td>\n",
       "      <td>0.666869</td>\n",
       "    </tr>\n",
       "    <tr>\n",
       "      <th>3</th>\n",
       "      <td>Ridge_GridSearchCV</td>\n",
       "      <td>task3</td>\n",
       "      <td>0.668483</td>\n",
       "    </tr>\n",
       "    <tr>\n",
       "      <th>4</th>\n",
       "      <td>RidgeCV</td>\n",
       "      <td>task3</td>\n",
       "      <td>0.668475</td>\n",
       "    </tr>\n",
       "    <tr>\n",
       "      <th>5</th>\n",
       "      <td>Lasso_GridSearchCV</td>\n",
       "      <td>task3</td>\n",
       "      <td>0.668483</td>\n",
       "    </tr>\n",
       "    <tr>\n",
       "      <th>6</th>\n",
       "      <td>LassoCV</td>\n",
       "      <td>task3</td>\n",
       "      <td>0.668483</td>\n",
       "    </tr>\n",
       "    <tr>\n",
       "      <th>7</th>\n",
       "      <td>Ridge_StandardScaler</td>\n",
       "      <td>task4</td>\n",
       "      <td>0.668483</td>\n",
       "    </tr>\n",
       "    <tr>\n",
       "      <th>8</th>\n",
       "      <td>Ridge_MinMaxScaler</td>\n",
       "      <td>task4</td>\n",
       "      <td>0.676221</td>\n",
       "    </tr>\n",
       "    <tr>\n",
       "      <th>9</th>\n",
       "      <td>Lasso_StandardScaler</td>\n",
       "      <td>task4</td>\n",
       "      <td>0.624045</td>\n",
       "    </tr>\n",
       "    <tr>\n",
       "      <th>10</th>\n",
       "      <td>Lasso_MinMaxScaler</td>\n",
       "      <td>task4</td>\n",
       "      <td>0.257392</td>\n",
       "    </tr>\n",
       "    <tr>\n",
       "      <th>11</th>\n",
       "      <td>Ridge_StandardScaler_CV</td>\n",
       "      <td>task5</td>\n",
       "      <td>0.668190</td>\n",
       "    </tr>\n",
       "    <tr>\n",
       "      <th>12</th>\n",
       "      <td>Ridge_MinMaxScaler_CV</td>\n",
       "      <td>task5</td>\n",
       "      <td>0.669765</td>\n",
       "    </tr>\n",
       "    <tr>\n",
       "      <th>13</th>\n",
       "      <td>Lasso_StandardScaler_CV</td>\n",
       "      <td>task5</td>\n",
       "      <td>0.668482</td>\n",
       "    </tr>\n",
       "    <tr>\n",
       "      <th>14</th>\n",
       "      <td>Lasso_MinMaxScaler_CV</td>\n",
       "      <td>task5</td>\n",
       "      <td>0.668484</td>\n",
       "    </tr>\n",
       "    <tr>\n",
       "      <th>15</th>\n",
       "      <td>Ridge_StandardScaler_Poly</td>\n",
       "      <td>task6</td>\n",
       "      <td>0.817136</td>\n",
       "    </tr>\n",
       "    <tr>\n",
       "      <th>16</th>\n",
       "      <td>Ridge_MinMaxScaler_Poly</td>\n",
       "      <td>task6</td>\n",
       "      <td>0.829886</td>\n",
       "    </tr>\n",
       "    <tr>\n",
       "      <th>17</th>\n",
       "      <td>Lasso_StandardScaler_Poly</td>\n",
       "      <td>task6</td>\n",
       "      <td>0.732274</td>\n",
       "    </tr>\n",
       "    <tr>\n",
       "      <th>18</th>\n",
       "      <td>Lasso_MinMaxScaler_Poly</td>\n",
       "      <td>task6</td>\n",
       "      <td>0.261126</td>\n",
       "    </tr>\n",
       "    <tr>\n",
       "      <th>19</th>\n",
       "      <td>Ridge_StandardScaler_Poly_CV</td>\n",
       "      <td>task7</td>\n",
       "      <td>0.818734</td>\n",
       "    </tr>\n",
       "    <tr>\n",
       "      <th>20</th>\n",
       "      <td>Ridge_MinMaxScaler_Poly_CV</td>\n",
       "      <td>task7</td>\n",
       "      <td>0.850140</td>\n",
       "    </tr>\n",
       "    <tr>\n",
       "      <th>21</th>\n",
       "      <td>Lasso_StandardScaler_Poly_CV</td>\n",
       "      <td>task7</td>\n",
       "      <td>0.812814</td>\n",
       "    </tr>\n",
       "    <tr>\n",
       "      <th>22</th>\n",
       "      <td>Lasso_MinMaxScaler_Poly_CV</td>\n",
       "      <td>task7</td>\n",
       "      <td>0.839702</td>\n",
       "    </tr>\n",
       "    <tr>\n",
       "      <th>23</th>\n",
       "      <td>Best_Model</td>\n",
       "      <td>task8</td>\n",
       "      <td>0.859881</td>\n",
       "    </tr>\n",
       "  </tbody>\n",
       "</table>\n",
       "</div>"
      ],
      "text/plain": [
       "                           model   task        R2\n",
       "0                             LR  task2  0.668483\n",
       "1                          Ridge  task2  0.665961\n",
       "2                          Lasso  task2  0.666869\n",
       "3             Ridge_GridSearchCV  task3  0.668483\n",
       "4                        RidgeCV  task3  0.668475\n",
       "5             Lasso_GridSearchCV  task3  0.668483\n",
       "6                        LassoCV  task3  0.668483\n",
       "7           Ridge_StandardScaler  task4  0.668483\n",
       "8             Ridge_MinMaxScaler  task4  0.676221\n",
       "9           Lasso_StandardScaler  task4  0.624045\n",
       "10            Lasso_MinMaxScaler  task4  0.257392\n",
       "11       Ridge_StandardScaler_CV  task5  0.668190\n",
       "12         Ridge_MinMaxScaler_CV  task5  0.669765\n",
       "13       Lasso_StandardScaler_CV  task5  0.668482\n",
       "14         Lasso_MinMaxScaler_CV  task5  0.668484\n",
       "15     Ridge_StandardScaler_Poly  task6  0.817136\n",
       "16       Ridge_MinMaxScaler_Poly  task6  0.829886\n",
       "17     Lasso_StandardScaler_Poly  task6  0.732274\n",
       "18       Lasso_MinMaxScaler_Poly  task6  0.261126\n",
       "19  Ridge_StandardScaler_Poly_CV  task7  0.818734\n",
       "20    Ridge_MinMaxScaler_Poly_CV  task7  0.850140\n",
       "21  Lasso_StandardScaler_Poly_CV  task7  0.812814\n",
       "22    Lasso_MinMaxScaler_Poly_CV  task7  0.839702\n",
       "23                    Best_Model  task8  0.859881"
      ]
     },
     "execution_count": 38,
     "metadata": {},
     "output_type": "execute_result"
    }
   ],
   "source": [
    "results_regression"
   ]
  },
  {
   "cell_type": "markdown",
   "id": "30d5564b",
   "metadata": {},
   "source": [
    "1. Лучшими оказались: MinMaxScaler, 5-я степень полинома, Ridge регрессия с коэффициентом регуляризации 1; \n",
    "2. Качество модели улучшилось по сравнению с предыдущими вариантами"
   ]
  },
  {
   "cell_type": "code",
   "execution_count": null,
   "id": "d3ddc686",
   "metadata": {},
   "outputs": [],
   "source": []
  },
  {
   "cell_type": "code",
   "execution_count": null,
   "id": "139ffa52",
   "metadata": {},
   "outputs": [],
   "source": []
  },
  {
   "cell_type": "markdown",
   "id": "f9cea7ee",
   "metadata": {},
   "source": [
    "__2. КЛАССИФИКАЦИЯ:__"
   ]
  },
  {
   "cell_type": "code",
   "execution_count": 39,
   "id": "8d7b1056",
   "metadata": {
    "scrolled": true
   },
   "outputs": [
    {
     "data": {
      "text/html": [
       "<div>\n",
       "<style scoped>\n",
       "    .dataframe tbody tr th:only-of-type {\n",
       "        vertical-align: middle;\n",
       "    }\n",
       "\n",
       "    .dataframe tbody tr th {\n",
       "        vertical-align: top;\n",
       "    }\n",
       "\n",
       "    .dataframe thead th {\n",
       "        text-align: right;\n",
       "    }\n",
       "</style>\n",
       "<table border=\"1\" class=\"dataframe\">\n",
       "  <thead>\n",
       "    <tr style=\"text-align: right;\">\n",
       "      <th></th>\n",
       "      <th>age</th>\n",
       "      <th>workclass</th>\n",
       "      <th>fnlwgt</th>\n",
       "      <th>education</th>\n",
       "      <th>education-num</th>\n",
       "      <th>marital-status</th>\n",
       "      <th>occupation</th>\n",
       "      <th>relationship</th>\n",
       "      <th>race</th>\n",
       "      <th>sex</th>\n",
       "      <th>capital-gain</th>\n",
       "      <th>capital-loss</th>\n",
       "      <th>hours-per-week</th>\n",
       "      <th>native-country</th>\n",
       "      <th>class</th>\n",
       "    </tr>\n",
       "  </thead>\n",
       "  <tbody>\n",
       "    <tr>\n",
       "      <th>0</th>\n",
       "      <td>39</td>\n",
       "      <td>State-gov</td>\n",
       "      <td>77516</td>\n",
       "      <td>Bachelors</td>\n",
       "      <td>13</td>\n",
       "      <td>Never-married</td>\n",
       "      <td>Adm-clerical</td>\n",
       "      <td>Not-in-family</td>\n",
       "      <td>White</td>\n",
       "      <td>Male</td>\n",
       "      <td>2174</td>\n",
       "      <td>0</td>\n",
       "      <td>40</td>\n",
       "      <td>United-States</td>\n",
       "      <td>&lt;=50K</td>\n",
       "    </tr>\n",
       "    <tr>\n",
       "      <th>1</th>\n",
       "      <td>50</td>\n",
       "      <td>Self-emp-not-inc</td>\n",
       "      <td>83311</td>\n",
       "      <td>Bachelors</td>\n",
       "      <td>13</td>\n",
       "      <td>Married-civ-spouse</td>\n",
       "      <td>Exec-managerial</td>\n",
       "      <td>Husband</td>\n",
       "      <td>White</td>\n",
       "      <td>Male</td>\n",
       "      <td>0</td>\n",
       "      <td>0</td>\n",
       "      <td>13</td>\n",
       "      <td>United-States</td>\n",
       "      <td>&lt;=50K</td>\n",
       "    </tr>\n",
       "    <tr>\n",
       "      <th>2</th>\n",
       "      <td>38</td>\n",
       "      <td>Private</td>\n",
       "      <td>215646</td>\n",
       "      <td>HS-grad</td>\n",
       "      <td>9</td>\n",
       "      <td>Divorced</td>\n",
       "      <td>Handlers-cleaners</td>\n",
       "      <td>Not-in-family</td>\n",
       "      <td>White</td>\n",
       "      <td>Male</td>\n",
       "      <td>0</td>\n",
       "      <td>0</td>\n",
       "      <td>40</td>\n",
       "      <td>United-States</td>\n",
       "      <td>&lt;=50K</td>\n",
       "    </tr>\n",
       "    <tr>\n",
       "      <th>3</th>\n",
       "      <td>53</td>\n",
       "      <td>Private</td>\n",
       "      <td>234721</td>\n",
       "      <td>11th</td>\n",
       "      <td>7</td>\n",
       "      <td>Married-civ-spouse</td>\n",
       "      <td>Handlers-cleaners</td>\n",
       "      <td>Husband</td>\n",
       "      <td>Black</td>\n",
       "      <td>Male</td>\n",
       "      <td>0</td>\n",
       "      <td>0</td>\n",
       "      <td>40</td>\n",
       "      <td>United-States</td>\n",
       "      <td>&lt;=50K</td>\n",
       "    </tr>\n",
       "    <tr>\n",
       "      <th>4</th>\n",
       "      <td>28</td>\n",
       "      <td>Private</td>\n",
       "      <td>338409</td>\n",
       "      <td>Bachelors</td>\n",
       "      <td>13</td>\n",
       "      <td>Married-civ-spouse</td>\n",
       "      <td>Prof-specialty</td>\n",
       "      <td>Wife</td>\n",
       "      <td>Black</td>\n",
       "      <td>Female</td>\n",
       "      <td>0</td>\n",
       "      <td>0</td>\n",
       "      <td>40</td>\n",
       "      <td>Cuba</td>\n",
       "      <td>&lt;=50K</td>\n",
       "    </tr>\n",
       "  </tbody>\n",
       "</table>\n",
       "</div>"
      ],
      "text/plain": [
       "   age         workclass  fnlwgt  education  education-num  \\\n",
       "0   39         State-gov   77516  Bachelors             13   \n",
       "1   50  Self-emp-not-inc   83311  Bachelors             13   \n",
       "2   38           Private  215646    HS-grad              9   \n",
       "3   53           Private  234721       11th              7   \n",
       "4   28           Private  338409  Bachelors             13   \n",
       "\n",
       "       marital-status         occupation   relationship   race     sex  \\\n",
       "0       Never-married       Adm-clerical  Not-in-family  White    Male   \n",
       "1  Married-civ-spouse    Exec-managerial        Husband  White    Male   \n",
       "2            Divorced  Handlers-cleaners  Not-in-family  White    Male   \n",
       "3  Married-civ-spouse  Handlers-cleaners        Husband  Black    Male   \n",
       "4  Married-civ-spouse     Prof-specialty           Wife  Black  Female   \n",
       "\n",
       "   capital-gain  capital-loss  hours-per-week native-country  class  \n",
       "0          2174             0              40  United-States  <=50K  \n",
       "1             0             0              13  United-States  <=50K  \n",
       "2             0             0              40  United-States  <=50K  \n",
       "3             0             0              40  United-States  <=50K  \n",
       "4             0             0              40           Cuba  <=50K  "
      ]
     },
     "execution_count": 39,
     "metadata": {},
     "output_type": "execute_result"
    }
   ],
   "source": [
    "data = pd.read_csv('adult.csv')\n",
    "df = data.copy()\n",
    "data.head()"
   ]
  },
  {
   "cell_type": "markdown",
   "id": "11307faa",
   "metadata": {},
   "source": [
    "### Разделите выборку на признаки и целевую переменную(колонка $class$). Замените целевую переменную на числовые значения ('$<=50K' - 1$, '$>50K' - 0$) ###"
   ]
  },
  {
   "cell_type": "code",
   "execution_count": 40,
   "id": "ae101cf6",
   "metadata": {},
   "outputs": [
    {
     "data": {
      "text/plain": [
       "class\n",
       "0    37155\n",
       "1    11687\n",
       "Name: count, dtype: int64"
      ]
     },
     "execution_count": 40,
     "metadata": {},
     "output_type": "execute_result"
    }
   ],
   "source": [
    "# создадим копию последнего столбца датафрейма (целевая переменная)\n",
    "y= data.dropna()['class'].copy()\n",
    "# заменим значения менее 50к на 0, значения более 50к на 1\n",
    "y[y == '<=50K'] = 0\n",
    "y[y == '>50K'] = 1\n",
    "# преобразуем тип данных целевой переменной в int\n",
    "y = y.astype(int)\n",
    "y.value_counts()"
   ]
  },
  {
   "cell_type": "code",
   "execution_count": 46,
   "id": "4eefa041",
   "metadata": {},
   "outputs": [
    {
     "data": {
      "text/html": [
       "<div>\n",
       "<style scoped>\n",
       "    .dataframe tbody tr th:only-of-type {\n",
       "        vertical-align: middle;\n",
       "    }\n",
       "\n",
       "    .dataframe tbody tr th {\n",
       "        vertical-align: top;\n",
       "    }\n",
       "\n",
       "    .dataframe thead th {\n",
       "        text-align: right;\n",
       "    }\n",
       "</style>\n",
       "<table border=\"1\" class=\"dataframe\">\n",
       "  <thead>\n",
       "    <tr style=\"text-align: right;\">\n",
       "      <th></th>\n",
       "      <th>age</th>\n",
       "      <th>workclass</th>\n",
       "      <th>fnlwgt</th>\n",
       "      <th>education</th>\n",
       "      <th>education-num</th>\n",
       "      <th>marital-status</th>\n",
       "      <th>occupation</th>\n",
       "      <th>relationship</th>\n",
       "      <th>race</th>\n",
       "      <th>sex</th>\n",
       "      <th>capital-gain</th>\n",
       "      <th>capital-loss</th>\n",
       "      <th>hours-per-week</th>\n",
       "      <th>native-country</th>\n",
       "    </tr>\n",
       "  </thead>\n",
       "  <tbody>\n",
       "    <tr>\n",
       "      <th>48837</th>\n",
       "      <td>39</td>\n",
       "      <td>Private</td>\n",
       "      <td>215419</td>\n",
       "      <td>Bachelors</td>\n",
       "      <td>13</td>\n",
       "      <td>Divorced</td>\n",
       "      <td>Prof-specialty</td>\n",
       "      <td>Not-in-family</td>\n",
       "      <td>White</td>\n",
       "      <td>Female</td>\n",
       "      <td>0</td>\n",
       "      <td>0</td>\n",
       "      <td>36</td>\n",
       "      <td>United-States</td>\n",
       "    </tr>\n",
       "    <tr>\n",
       "      <th>48838</th>\n",
       "      <td>64</td>\n",
       "      <td>?</td>\n",
       "      <td>321403</td>\n",
       "      <td>HS-grad</td>\n",
       "      <td>9</td>\n",
       "      <td>Widowed</td>\n",
       "      <td>?</td>\n",
       "      <td>Other-relative</td>\n",
       "      <td>Black</td>\n",
       "      <td>Male</td>\n",
       "      <td>0</td>\n",
       "      <td>0</td>\n",
       "      <td>40</td>\n",
       "      <td>United-States</td>\n",
       "    </tr>\n",
       "    <tr>\n",
       "      <th>48839</th>\n",
       "      <td>38</td>\n",
       "      <td>Private</td>\n",
       "      <td>374983</td>\n",
       "      <td>Bachelors</td>\n",
       "      <td>13</td>\n",
       "      <td>Married-civ-spouse</td>\n",
       "      <td>Prof-specialty</td>\n",
       "      <td>Husband</td>\n",
       "      <td>White</td>\n",
       "      <td>Male</td>\n",
       "      <td>0</td>\n",
       "      <td>0</td>\n",
       "      <td>50</td>\n",
       "      <td>United-States</td>\n",
       "    </tr>\n",
       "    <tr>\n",
       "      <th>48840</th>\n",
       "      <td>44</td>\n",
       "      <td>Private</td>\n",
       "      <td>83891</td>\n",
       "      <td>Bachelors</td>\n",
       "      <td>13</td>\n",
       "      <td>Divorced</td>\n",
       "      <td>Adm-clerical</td>\n",
       "      <td>Own-child</td>\n",
       "      <td>Asian-Pac-Islander</td>\n",
       "      <td>Male</td>\n",
       "      <td>5455</td>\n",
       "      <td>0</td>\n",
       "      <td>40</td>\n",
       "      <td>United-States</td>\n",
       "    </tr>\n",
       "    <tr>\n",
       "      <th>48841</th>\n",
       "      <td>35</td>\n",
       "      <td>Self-emp-inc</td>\n",
       "      <td>182148</td>\n",
       "      <td>Bachelors</td>\n",
       "      <td>13</td>\n",
       "      <td>Married-civ-spouse</td>\n",
       "      <td>Exec-managerial</td>\n",
       "      <td>Husband</td>\n",
       "      <td>White</td>\n",
       "      <td>Male</td>\n",
       "      <td>0</td>\n",
       "      <td>0</td>\n",
       "      <td>60</td>\n",
       "      <td>United-States</td>\n",
       "    </tr>\n",
       "  </tbody>\n",
       "</table>\n",
       "</div>"
      ],
      "text/plain": [
       "       age     workclass  fnlwgt  education  education-num  \\\n",
       "48837   39       Private  215419  Bachelors             13   \n",
       "48838   64             ?  321403    HS-grad              9   \n",
       "48839   38       Private  374983  Bachelors             13   \n",
       "48840   44       Private   83891  Bachelors             13   \n",
       "48841   35  Self-emp-inc  182148  Bachelors             13   \n",
       "\n",
       "           marital-status       occupation    relationship  \\\n",
       "48837            Divorced   Prof-specialty   Not-in-family   \n",
       "48838             Widowed                ?  Other-relative   \n",
       "48839  Married-civ-spouse   Prof-specialty         Husband   \n",
       "48840            Divorced     Adm-clerical       Own-child   \n",
       "48841  Married-civ-spouse  Exec-managerial         Husband   \n",
       "\n",
       "                     race     sex  capital-gain  capital-loss  hours-per-week  \\\n",
       "48837               White  Female             0             0              36   \n",
       "48838               Black    Male             0             0              40   \n",
       "48839               White    Male             0             0              50   \n",
       "48840  Asian-Pac-Islander    Male          5455             0              40   \n",
       "48841               White    Male             0             0              60   \n",
       "\n",
       "      native-country  \n",
       "48837  United-States  \n",
       "48838  United-States  \n",
       "48839  United-States  \n",
       "48840  United-States  \n",
       "48841  United-States  "
      ]
     },
     "execution_count": 46,
     "metadata": {},
     "output_type": "execute_result"
    }
   ],
   "source": [
    "#выделим Х без последнего целевого столбца\n",
    "X = data.dropna().iloc[:,0:14].copy()\n",
    "X.tail(5)"
   ]
  },
  {
   "cell_type": "markdown",
   "id": "2da3b26e",
   "metadata": {},
   "source": [
    "### Посчитайте метрики $accuracy$ и $f1$_$score$ на предсказании только самого частого класса в целевой переменной. ###"
   ]
  },
  {
   "cell_type": "code",
   "execution_count": 47,
   "id": "507c40dd",
   "metadata": {},
   "outputs": [
    {
     "data": {
      "text/plain": [
       "class\n",
       "0    37155\n",
       "1    11687\n",
       "Name: count, dtype: int64"
      ]
     },
     "execution_count": 47,
     "metadata": {},
     "output_type": "execute_result"
    }
   ],
   "source": [
    "# определим самый частый класс целевой переменной (для <=50K -> 0; >50K -> 1)\n",
    "y.value_counts()"
   ]
  },
  {
   "cell_type": "code",
   "execution_count": 51,
   "id": "6290938e",
   "metadata": {},
   "outputs": [
    {
     "name": "stdout",
     "output_type": "stream",
     "text": [
      "0.7607182343065395\n",
      "0.0\n"
     ]
    }
   ],
   "source": [
    "from sklearn.metrics import f1_score , accuracy_score\n",
    "\n",
    "y_pred = np.zeros_like(y)\n",
    "\n",
    "print(accuracy_score(y, y_pred))\n",
    "print(f1_score(y, y_pred))"
   ]
  },
  {
   "cell_type": "code",
   "execution_count": 52,
   "id": "db643e13",
   "metadata": {},
   "outputs": [],
   "source": [
    "f1_most_frequent = f1_score(y, y_pred)\n",
    "acc_most_frequent = accuracy_score(y, y_pred)\n",
    "results_classification.loc[0] = ['Most Frequent class', 'task10', f1_most_frequent, acc_most_frequent]"
   ]
  },
  {
   "cell_type": "code",
   "execution_count": null,
   "id": "bfacf1db",
   "metadata": {},
   "outputs": [],
   "source": []
  },
  {
   "cell_type": "markdown",
   "id": "efeb9839",
   "metadata": {},
   "source": [
    "### Выясните, присутствуют ли в данных пропуски. Если присутствуют, заполните их самыми частыми значениями (испольуйте $SimpleImputer$) ###"
   ]
  },
  {
   "cell_type": "code",
   "execution_count": 53,
   "id": "cef43044",
   "metadata": {},
   "outputs": [
    {
     "data": {
      "text/plain": [
       "age               0\n",
       "workclass         0\n",
       "fnlwgt            0\n",
       "education         0\n",
       "education-num     0\n",
       "marital-status    0\n",
       "occupation        0\n",
       "relationship      0\n",
       "race              0\n",
       "sex               0\n",
       "capital-gain      0\n",
       "capital-loss      0\n",
       "hours-per-week    0\n",
       "native-country    0\n",
       "dtype: int64"
      ]
     },
     "execution_count": 53,
     "metadata": {},
     "output_type": "execute_result"
    }
   ],
   "source": [
    "X.isnull().sum(axis=0)"
   ]
  },
  {
   "cell_type": "markdown",
   "id": "ee772323",
   "metadata": {},
   "source": [
    "В датасете отсутствуют пропущенные значения "
   ]
  },
  {
   "cell_type": "code",
   "execution_count": null,
   "id": "314bb1dd",
   "metadata": {},
   "outputs": [],
   "source": []
  },
  {
   "cell_type": "markdown",
   "id": "95cd6aa2",
   "metadata": {},
   "source": [
    "### Выберите колонки с числовыми и категориальными переменными (используя возможности $pandas$). ###"
   ]
  },
  {
   "cell_type": "code",
   "execution_count": 54,
   "id": "aeea4971",
   "metadata": {},
   "outputs": [
    {
     "data": {
      "text/plain": [
       "age                int64\n",
       "workclass         object\n",
       "fnlwgt             int64\n",
       "education         object\n",
       "education-num      int64\n",
       "marital-status    object\n",
       "occupation        object\n",
       "relationship      object\n",
       "race              object\n",
       "sex               object\n",
       "capital-gain       int64\n",
       "capital-loss       int64\n",
       "hours-per-week     int64\n",
       "native-country    object\n",
       "dtype: object"
      ]
     },
     "execution_count": 54,
     "metadata": {},
     "output_type": "execute_result"
    }
   ],
   "source": [
    "# типы колонок\n",
    "X.dtypes"
   ]
  },
  {
   "cell_type": "code",
   "execution_count": 55,
   "id": "b13c6997",
   "metadata": {},
   "outputs": [
    {
     "data": {
      "text/html": [
       "<div>\n",
       "<style scoped>\n",
       "    .dataframe tbody tr th:only-of-type {\n",
       "        vertical-align: middle;\n",
       "    }\n",
       "\n",
       "    .dataframe tbody tr th {\n",
       "        vertical-align: top;\n",
       "    }\n",
       "\n",
       "    .dataframe thead th {\n",
       "        text-align: right;\n",
       "    }\n",
       "</style>\n",
       "<table border=\"1\" class=\"dataframe\">\n",
       "  <thead>\n",
       "    <tr style=\"text-align: right;\">\n",
       "      <th></th>\n",
       "      <th>age</th>\n",
       "      <th>fnlwgt</th>\n",
       "      <th>education-num</th>\n",
       "      <th>capital-gain</th>\n",
       "      <th>capital-loss</th>\n",
       "      <th>hours-per-week</th>\n",
       "    </tr>\n",
       "  </thead>\n",
       "  <tbody>\n",
       "    <tr>\n",
       "      <th>0</th>\n",
       "      <td>39</td>\n",
       "      <td>77516</td>\n",
       "      <td>13</td>\n",
       "      <td>2174</td>\n",
       "      <td>0</td>\n",
       "      <td>40</td>\n",
       "    </tr>\n",
       "    <tr>\n",
       "      <th>1</th>\n",
       "      <td>50</td>\n",
       "      <td>83311</td>\n",
       "      <td>13</td>\n",
       "      <td>0</td>\n",
       "      <td>0</td>\n",
       "      <td>13</td>\n",
       "    </tr>\n",
       "    <tr>\n",
       "      <th>2</th>\n",
       "      <td>38</td>\n",
       "      <td>215646</td>\n",
       "      <td>9</td>\n",
       "      <td>0</td>\n",
       "      <td>0</td>\n",
       "      <td>40</td>\n",
       "    </tr>\n",
       "  </tbody>\n",
       "</table>\n",
       "</div>"
      ],
      "text/plain": [
       "   age  fnlwgt  education-num  capital-gain  capital-loss  hours-per-week\n",
       "0   39   77516             13          2174             0              40\n",
       "1   50   83311             13             0             0              13\n",
       "2   38  215646              9             0             0              40"
      ]
     },
     "execution_count": 55,
     "metadata": {},
     "output_type": "execute_result"
    }
   ],
   "source": [
    "# колонки с числовыми переменными\n",
    "numerical = list(X.select_dtypes('number').columns)\n",
    "X[numerical].head(3)"
   ]
  },
  {
   "cell_type": "code",
   "execution_count": 56,
   "id": "c2851efe",
   "metadata": {},
   "outputs": [
    {
     "data": {
      "text/html": [
       "<div>\n",
       "<style scoped>\n",
       "    .dataframe tbody tr th:only-of-type {\n",
       "        vertical-align: middle;\n",
       "    }\n",
       "\n",
       "    .dataframe tbody tr th {\n",
       "        vertical-align: top;\n",
       "    }\n",
       "\n",
       "    .dataframe thead th {\n",
       "        text-align: right;\n",
       "    }\n",
       "</style>\n",
       "<table border=\"1\" class=\"dataframe\">\n",
       "  <thead>\n",
       "    <tr style=\"text-align: right;\">\n",
       "      <th></th>\n",
       "      <th>workclass</th>\n",
       "      <th>education</th>\n",
       "      <th>marital-status</th>\n",
       "      <th>occupation</th>\n",
       "      <th>relationship</th>\n",
       "      <th>race</th>\n",
       "      <th>sex</th>\n",
       "      <th>native-country</th>\n",
       "    </tr>\n",
       "  </thead>\n",
       "  <tbody>\n",
       "    <tr>\n",
       "      <th>0</th>\n",
       "      <td>State-gov</td>\n",
       "      <td>Bachelors</td>\n",
       "      <td>Never-married</td>\n",
       "      <td>Adm-clerical</td>\n",
       "      <td>Not-in-family</td>\n",
       "      <td>White</td>\n",
       "      <td>Male</td>\n",
       "      <td>United-States</td>\n",
       "    </tr>\n",
       "    <tr>\n",
       "      <th>1</th>\n",
       "      <td>Self-emp-not-inc</td>\n",
       "      <td>Bachelors</td>\n",
       "      <td>Married-civ-spouse</td>\n",
       "      <td>Exec-managerial</td>\n",
       "      <td>Husband</td>\n",
       "      <td>White</td>\n",
       "      <td>Male</td>\n",
       "      <td>United-States</td>\n",
       "    </tr>\n",
       "    <tr>\n",
       "      <th>2</th>\n",
       "      <td>Private</td>\n",
       "      <td>HS-grad</td>\n",
       "      <td>Divorced</td>\n",
       "      <td>Handlers-cleaners</td>\n",
       "      <td>Not-in-family</td>\n",
       "      <td>White</td>\n",
       "      <td>Male</td>\n",
       "      <td>United-States</td>\n",
       "    </tr>\n",
       "  </tbody>\n",
       "</table>\n",
       "</div>"
      ],
      "text/plain": [
       "          workclass  education      marital-status         occupation  \\\n",
       "0         State-gov  Bachelors       Never-married       Adm-clerical   \n",
       "1  Self-emp-not-inc  Bachelors  Married-civ-spouse    Exec-managerial   \n",
       "2           Private    HS-grad            Divorced  Handlers-cleaners   \n",
       "\n",
       "    relationship   race   sex native-country  \n",
       "0  Not-in-family  White  Male  United-States  \n",
       "1        Husband  White  Male  United-States  \n",
       "2  Not-in-family  White  Male  United-States  "
      ]
     },
     "execution_count": 56,
     "metadata": {},
     "output_type": "execute_result"
    }
   ],
   "source": [
    "# колонки с категориальными переменными\n",
    "categorical = list(X.select_dtypes('object').columns)\n",
    "X[categorical].head(3)"
   ]
  },
  {
   "cell_type": "code",
   "execution_count": null,
   "id": "e348d172",
   "metadata": {},
   "outputs": [],
   "source": []
  },
  {
   "cell_type": "markdown",
   "id": "3351e3f8",
   "metadata": {},
   "source": [
    "### Создайте пайплайн по обработке числовых и категориальных значений колонок (используйте $OneHotEncoder,MinMaxScaler$) и посчитайте cross_val_score по алгоритмам $LogisticRegression, KNeighborsClassifier, LinearSVC$ по метрикам $accuracy$ и $f1$_$score$ ###"
   ]
  },
  {
   "cell_type": "markdown",
   "id": "a8e4be8b",
   "metadata": {},
   "source": [
    "_𝑂𝑛𝑒𝐻𝑜𝑡𝐸𝑛𝑐𝑜𝑑𝑒𝑟 - используется для преобразования категориальных переменных в числовые значения_"
   ]
  },
  {
   "cell_type": "code",
   "execution_count": 65,
   "id": "45a1517a",
   "metadata": {},
   "outputs": [],
   "source": [
    "from sklearn.compose import ColumnTransformer\n",
    "from sklearn.preprocessing import OneHotEncoder\n",
    "\n",
    "miss = SimpleImputer(missing_values=np.nan, strategy='most_frequent')\n",
    "int_ = [0, 2, 4, 10, 11, 12]\n",
    "obj_ = [1, 3, 5, 6, 7, 8, 9, 13]\n",
    "\n",
    "encoder = OneHotEncoder(dtype='object')\n",
    "min_max_scale = MinMaxScaler()\n",
    "\n",
    "col_trans = ColumnTransformer([('int_', min_max_scale, int_),('cat_', encoder, obj_)])\n",
    "\n",
    "pipe = Pipeline([('miss', miss),('col_trans', col_trans)])"
   ]
  },
  {
   "cell_type": "code",
   "execution_count": 66,
   "id": "3097efc3",
   "metadata": {},
   "outputs": [
    {
     "data": {
      "text/html": [
       "<style>#sk-container-id-3 {color: black;}#sk-container-id-3 pre{padding: 0;}#sk-container-id-3 div.sk-toggleable {background-color: white;}#sk-container-id-3 label.sk-toggleable__label {cursor: pointer;display: block;width: 100%;margin-bottom: 0;padding: 0.3em;box-sizing: border-box;text-align: center;}#sk-container-id-3 label.sk-toggleable__label-arrow:before {content: \"▸\";float: left;margin-right: 0.25em;color: #696969;}#sk-container-id-3 label.sk-toggleable__label-arrow:hover:before {color: black;}#sk-container-id-3 div.sk-estimator:hover label.sk-toggleable__label-arrow:before {color: black;}#sk-container-id-3 div.sk-toggleable__content {max-height: 0;max-width: 0;overflow: hidden;text-align: left;background-color: #f0f8ff;}#sk-container-id-3 div.sk-toggleable__content pre {margin: 0.2em;color: black;border-radius: 0.25em;background-color: #f0f8ff;}#sk-container-id-3 input.sk-toggleable__control:checked~div.sk-toggleable__content {max-height: 200px;max-width: 100%;overflow: auto;}#sk-container-id-3 input.sk-toggleable__control:checked~label.sk-toggleable__label-arrow:before {content: \"▾\";}#sk-container-id-3 div.sk-estimator input.sk-toggleable__control:checked~label.sk-toggleable__label {background-color: #d4ebff;}#sk-container-id-3 div.sk-label input.sk-toggleable__control:checked~label.sk-toggleable__label {background-color: #d4ebff;}#sk-container-id-3 input.sk-hidden--visually {border: 0;clip: rect(1px 1px 1px 1px);clip: rect(1px, 1px, 1px, 1px);height: 1px;margin: -1px;overflow: hidden;padding: 0;position: absolute;width: 1px;}#sk-container-id-3 div.sk-estimator {font-family: monospace;background-color: #f0f8ff;border: 1px dotted black;border-radius: 0.25em;box-sizing: border-box;margin-bottom: 0.5em;}#sk-container-id-3 div.sk-estimator:hover {background-color: #d4ebff;}#sk-container-id-3 div.sk-parallel-item::after {content: \"\";width: 100%;border-bottom: 1px solid gray;flex-grow: 1;}#sk-container-id-3 div.sk-label:hover label.sk-toggleable__label {background-color: #d4ebff;}#sk-container-id-3 div.sk-serial::before {content: \"\";position: absolute;border-left: 1px solid gray;box-sizing: border-box;top: 0;bottom: 0;left: 50%;z-index: 0;}#sk-container-id-3 div.sk-serial {display: flex;flex-direction: column;align-items: center;background-color: white;padding-right: 0.2em;padding-left: 0.2em;position: relative;}#sk-container-id-3 div.sk-item {position: relative;z-index: 1;}#sk-container-id-3 div.sk-parallel {display: flex;align-items: stretch;justify-content: center;background-color: white;position: relative;}#sk-container-id-3 div.sk-item::before, #sk-container-id-3 div.sk-parallel-item::before {content: \"\";position: absolute;border-left: 1px solid gray;box-sizing: border-box;top: 0;bottom: 0;left: 50%;z-index: -1;}#sk-container-id-3 div.sk-parallel-item {display: flex;flex-direction: column;z-index: 1;position: relative;background-color: white;}#sk-container-id-3 div.sk-parallel-item:first-child::after {align-self: flex-end;width: 50%;}#sk-container-id-3 div.sk-parallel-item:last-child::after {align-self: flex-start;width: 50%;}#sk-container-id-3 div.sk-parallel-item:only-child::after {width: 0;}#sk-container-id-3 div.sk-dashed-wrapped {border: 1px dashed gray;margin: 0 0.4em 0.5em 0.4em;box-sizing: border-box;padding-bottom: 0.4em;background-color: white;}#sk-container-id-3 div.sk-label label {font-family: monospace;font-weight: bold;display: inline-block;line-height: 1.2em;}#sk-container-id-3 div.sk-label-container {text-align: center;}#sk-container-id-3 div.sk-container {/* jupyter's `normalize.less` sets `[hidden] { display: none; }` but bootstrap.min.css set `[hidden] { display: none !important; }` so we also need the `!important` here to be able to override the default hidden behavior on the sphinx rendered scikit-learn.org. See: https://github.com/scikit-learn/scikit-learn/issues/21755 */display: inline-block !important;position: relative;}#sk-container-id-3 div.sk-text-repr-fallback {display: none;}</style><div id=\"sk-container-id-3\" class=\"sk-top-container\"><div class=\"sk-text-repr-fallback\"><pre>Pipeline(steps=[(&#x27;miss&#x27;, SimpleImputer(strategy=&#x27;most_frequent&#x27;)),\n",
       "                (&#x27;col_trans&#x27;,\n",
       "                 ColumnTransformer(transformers=[(&#x27;int_&#x27;, MinMaxScaler(),\n",
       "                                                  [0, 2, 4, 10, 11, 12]),\n",
       "                                                 (&#x27;cat_&#x27;,\n",
       "                                                  OneHotEncoder(dtype=&#x27;object&#x27;),\n",
       "                                                  [1, 3, 5, 6, 7, 8, 9,\n",
       "                                                   13])]))])</pre><b>In a Jupyter environment, please rerun this cell to show the HTML representation or trust the notebook. <br />On GitHub, the HTML representation is unable to render, please try loading this page with nbviewer.org.</b></div><div class=\"sk-container\" hidden><div class=\"sk-item sk-dashed-wrapped\"><div class=\"sk-label-container\"><div class=\"sk-label sk-toggleable\"><input class=\"sk-toggleable__control sk-hidden--visually\" id=\"sk-estimator-id-10\" type=\"checkbox\" ><label for=\"sk-estimator-id-10\" class=\"sk-toggleable__label sk-toggleable__label-arrow\">Pipeline</label><div class=\"sk-toggleable__content\"><pre>Pipeline(steps=[(&#x27;miss&#x27;, SimpleImputer(strategy=&#x27;most_frequent&#x27;)),\n",
       "                (&#x27;col_trans&#x27;,\n",
       "                 ColumnTransformer(transformers=[(&#x27;int_&#x27;, MinMaxScaler(),\n",
       "                                                  [0, 2, 4, 10, 11, 12]),\n",
       "                                                 (&#x27;cat_&#x27;,\n",
       "                                                  OneHotEncoder(dtype=&#x27;object&#x27;),\n",
       "                                                  [1, 3, 5, 6, 7, 8, 9,\n",
       "                                                   13])]))])</pre></div></div></div><div class=\"sk-serial\"><div class=\"sk-item\"><div class=\"sk-estimator sk-toggleable\"><input class=\"sk-toggleable__control sk-hidden--visually\" id=\"sk-estimator-id-11\" type=\"checkbox\" ><label for=\"sk-estimator-id-11\" class=\"sk-toggleable__label sk-toggleable__label-arrow\">SimpleImputer</label><div class=\"sk-toggleable__content\"><pre>SimpleImputer(strategy=&#x27;most_frequent&#x27;)</pre></div></div></div><div class=\"sk-item sk-dashed-wrapped\"><div class=\"sk-label-container\"><div class=\"sk-label sk-toggleable\"><input class=\"sk-toggleable__control sk-hidden--visually\" id=\"sk-estimator-id-12\" type=\"checkbox\" ><label for=\"sk-estimator-id-12\" class=\"sk-toggleable__label sk-toggleable__label-arrow\">col_trans: ColumnTransformer</label><div class=\"sk-toggleable__content\"><pre>ColumnTransformer(transformers=[(&#x27;int_&#x27;, MinMaxScaler(), [0, 2, 4, 10, 11, 12]),\n",
       "                                (&#x27;cat_&#x27;, OneHotEncoder(dtype=&#x27;object&#x27;),\n",
       "                                 [1, 3, 5, 6, 7, 8, 9, 13])])</pre></div></div></div><div class=\"sk-parallel\"><div class=\"sk-parallel-item\"><div class=\"sk-item\"><div class=\"sk-label-container\"><div class=\"sk-label sk-toggleable\"><input class=\"sk-toggleable__control sk-hidden--visually\" id=\"sk-estimator-id-13\" type=\"checkbox\" ><label for=\"sk-estimator-id-13\" class=\"sk-toggleable__label sk-toggleable__label-arrow\">int_</label><div class=\"sk-toggleable__content\"><pre>[0, 2, 4, 10, 11, 12]</pre></div></div></div><div class=\"sk-serial\"><div class=\"sk-item\"><div class=\"sk-estimator sk-toggleable\"><input class=\"sk-toggleable__control sk-hidden--visually\" id=\"sk-estimator-id-14\" type=\"checkbox\" ><label for=\"sk-estimator-id-14\" class=\"sk-toggleable__label sk-toggleable__label-arrow\">MinMaxScaler</label><div class=\"sk-toggleable__content\"><pre>MinMaxScaler()</pre></div></div></div></div></div></div><div class=\"sk-parallel-item\"><div class=\"sk-item\"><div class=\"sk-label-container\"><div class=\"sk-label sk-toggleable\"><input class=\"sk-toggleable__control sk-hidden--visually\" id=\"sk-estimator-id-15\" type=\"checkbox\" ><label for=\"sk-estimator-id-15\" class=\"sk-toggleable__label sk-toggleable__label-arrow\">cat_</label><div class=\"sk-toggleable__content\"><pre>[1, 3, 5, 6, 7, 8, 9, 13]</pre></div></div></div><div class=\"sk-serial\"><div class=\"sk-item\"><div class=\"sk-estimator sk-toggleable\"><input class=\"sk-toggleable__control sk-hidden--visually\" id=\"sk-estimator-id-16\" type=\"checkbox\" ><label for=\"sk-estimator-id-16\" class=\"sk-toggleable__label sk-toggleable__label-arrow\">OneHotEncoder</label><div class=\"sk-toggleable__content\"><pre>OneHotEncoder(dtype=&#x27;object&#x27;)</pre></div></div></div></div></div></div></div></div></div></div></div></div>"
      ],
      "text/plain": [
       "Pipeline(steps=[('miss', SimpleImputer(strategy='most_frequent')),\n",
       "                ('col_trans',\n",
       "                 ColumnTransformer(transformers=[('int_', MinMaxScaler(),\n",
       "                                                  [0, 2, 4, 10, 11, 12]),\n",
       "                                                 ('cat_',\n",
       "                                                  OneHotEncoder(dtype='object'),\n",
       "                                                  [1, 3, 5, 6, 7, 8, 9,\n",
       "                                                   13])]))])"
      ]
     },
     "execution_count": 66,
     "metadata": {},
     "output_type": "execute_result"
    }
   ],
   "source": [
    "pipe"
   ]
  },
  {
   "cell_type": "code",
   "execution_count": null,
   "id": "9281d381",
   "metadata": {},
   "outputs": [],
   "source": []
  },
  {
   "cell_type": "markdown",
   "id": "354b09dd",
   "metadata": {},
   "source": [
    "___Посчитаем cross_val_score по алгоритмам  𝐿𝑜𝑔𝑖𝑠𝑡𝑖𝑐𝑅𝑒𝑔𝑟𝑒𝑠𝑠𝑖𝑜𝑛, 𝐾𝑁𝑒𝑖𝑔ℎ𝑏𝑜𝑟𝑠𝐶𝑙𝑎𝑠𝑠𝑖𝑓𝑖𝑒𝑟, 𝐿𝑖𝑛𝑒𝑎𝑟𝑆𝑉𝐶 по метрикам  𝑎𝑐𝑐𝑢𝑟𝑎𝑐𝑦 и  𝑓1_𝑠𝑐𝑜𝑟𝑒:___ \n"
   ]
  },
  {
   "cell_type": "code",
   "execution_count": 67,
   "id": "6bc46d11",
   "metadata": {},
   "outputs": [],
   "source": [
    "from sklearn.model_selection import cross_val_score\n",
    "from sklearn.linear_model import LogisticRegression\n",
    "from sklearn.svm import LinearSVC\n",
    "from sklearn.neighbors import KNeighborsClassifier"
   ]
  },
  {
   "cell_type": "code",
   "execution_count": 68,
   "id": "e103f2c4",
   "metadata": {},
   "outputs": [],
   "source": [
    "# предобработка данных\n",
    "preprocessor_base = ColumnTransformer([('cat', Pipeline([('encoder', OneHotEncoder(handle_unknown='ignore', sparse=False))]), categorical),\n",
    "                                  ('num', Pipeline([('scaler', MinMaxScaler())]), numerical)\n",
    "                                  ])"
   ]
  },
  {
   "cell_type": "markdown",
   "id": "a5b6755c",
   "metadata": {},
   "source": [
    "1. Для $LogisticRegression$:"
   ]
  },
  {
   "cell_type": "code",
   "execution_count": 84,
   "id": "7d90bf24",
   "metadata": {},
   "outputs": [
    {
     "name": "stdout",
     "output_type": "stream",
     "text": [
      "accuracy :   0.850907\n",
      "f1:          0.655880\n"
     ]
    }
   ],
   "source": [
    "# создание пайплайна\n",
    "pipe_LogReg = Pipeline([('preprocessor', preprocessor_base), ('classifier', LogisticRegression(random_state=RANDOM_STATE, max_iter=1000))])\n",
    "\n",
    "# расчет accurancy и f1\n",
    "LogReg_accuracy = cross_val_score(pipe_LogReg, X, y, cv=5, scoring='accuracy').mean()\n",
    "LogReg_f1 = cross_val_score(pipe_LogReg, X, y, cv=5, scoring='f1').mean()\n",
    "\n",
    "# вывод accurancy и f1\n",
    "print(f\"accuracy :   {LogReg_accuracy:.6f}\")\n",
    "print(f\"f1:          {LogReg_f1:.6f}\")"
   ]
  },
  {
   "cell_type": "markdown",
   "id": "dc4b483b",
   "metadata": {},
   "source": [
    "2. Для 𝐾𝑁𝑒𝑖𝑔ℎ𝑏𝑜𝑟𝑠𝐶𝑙𝑎𝑠𝑠𝑖𝑓𝑖𝑒𝑟:"
   ]
  },
  {
   "cell_type": "markdown",
   "id": "365618b0",
   "metadata": {},
   "source": [
    "𝐾𝑁𝑒𝑖𝑔ℎ𝑏𝑜𝑟𝑠𝐶𝑙𝑎𝑠𝑠𝑖𝑓𝑖𝑒𝑟 - реализует обучение на основе метода $k$-ближайших соседей:\n",
    "\n",
    "  -объекты представляются в виде точек в пространстве и м/д ними вычисляются расстояния\\\n",
    "  -для классифицируемого объекта находят $k$-его ближ.соседей по тренировочной выборке\\\n",
    "  -объект относится к тому классу, который явл-ся наиб.распространённый среди $k$-соседей"
   ]
  },
  {
   "cell_type": "code",
   "execution_count": 85,
   "id": "3ebddafa",
   "metadata": {},
   "outputs": [
    {
     "name": "stdout",
     "output_type": "stream",
     "text": [
      "accuracy: 0.824741\n",
      "f1:       0.610048\n"
     ]
    }
   ],
   "source": [
    "# создание пайплайна\n",
    "pipe_KN= Pipeline([('preprocessor', preprocessor_base), ('classifier', KNeighborsClassifier())])\n",
    "\n",
    "# расчет accurancy и f1\n",
    "KN_accuracy = cross_val_score(pipe_KN, X, y, cv=5, scoring='accuracy').mean()\n",
    "KN_f1 = cross_val_score(pipe_KN, X, y, cv=5, scoring='f1').mean()\n",
    "\n",
    "# вывод accurancy и f1\n",
    "print(f\"accuracy: {KN_accuracy:.6f}\")\n",
    "print(f\"f1:       {KN_f1:.6f}\")"
   ]
  },
  {
   "cell_type": "markdown",
   "id": "d491af34",
   "metadata": {},
   "source": [
    "3. Для $LinearSVC$:"
   ]
  },
  {
   "cell_type": "code",
   "execution_count": 86,
   "id": "be81e65d",
   "metadata": {},
   "outputs": [
    {
     "name": "stdout",
     "output_type": "stream",
     "text": [
      "accuracy:  0.852914\n",
      "f1:        0.657816\n"
     ]
    }
   ],
   "source": [
    "# создание пайплайна\n",
    "pipe_LinSVC = Pipeline([('preprocessor', preprocessor_base), ('classifier', LinearSVC(random_state=RANDOM_STATE))])\n",
    "\n",
    "# расчет accurancy и f1\n",
    "LinSVC_accuracy = cross_val_score(pipe_LinSVC, X, y, cv=5, scoring='accuracy').mean()\n",
    "LinSVC_f1 = cross_val_score(pipe_LinSVC, X, y, cv=5, scoring='f1').mean()\n",
    "\n",
    "# вывод accurancy и f1\n",
    "print(f\"accuracy:  {LinSVC_accuracy:.6f}\")\n",
    "print(f\"f1:        {LinSVC_f1:.6f}\")"
   ]
  },
  {
   "cell_type": "code",
   "execution_count": 87,
   "id": "c1dc0e40",
   "metadata": {},
   "outputs": [],
   "source": [
    "f1_LR = LogReg_f1\n",
    "acc_LR = LogReg_accuracy\n",
    "f1_KNN = KN_f1\n",
    "acc_KNN = KN_accuracy\n",
    "f1_SVM = LinSVC_f1\n",
    "acc_SVM = LinSVC_accuracy\n",
    "results_classification.loc[1] = ['LogisticRegression', 'task13', f1_LR, acc_LR]\n",
    "results_classification.loc[2] = ['KNeighborsClassifier', 'task13', f1_KNN, acc_KNN]\n",
    "results_classification.loc[3] = ['LinearSVC', 'task13', f1_SVM, acc_SVM]"
   ]
  },
  {
   "cell_type": "code",
   "execution_count": null,
   "id": "20d7ed5a",
   "metadata": {},
   "outputs": [],
   "source": []
  },
  {
   "cell_type": "markdown",
   "id": "a53424d2",
   "metadata": {},
   "source": [
    "### Можно заметить что в данных присутствуют значения '$?$', замените их самыми частыми значениями, (испольуйте $SimpleImputer$). Посчитайте cross_val_score по алгоритмам $LogisticRegression, KNeighborsClassifier, LinearSVC$ по метрикам $accuracy$ и $f1$_$score$. ### "
   ]
  },
  {
   "cell_type": "code",
   "execution_count": 91,
   "id": "63d8609f",
   "metadata": {
    "scrolled": true
   },
   "outputs": [
    {
     "data": {
      "text/plain": [
       "occupation        2809\n",
       "workclass         2799\n",
       "native-country     857\n",
       "age                  0\n",
       "fnlwgt               0\n",
       "education            0\n",
       "education-num        0\n",
       "marital-status       0\n",
       "relationship         0\n",
       "race                 0\n",
       "sex                  0\n",
       "capital-gain         0\n",
       "capital-loss         0\n",
       "hours-per-week       0\n",
       "dtype: int64"
      ]
     },
     "execution_count": 91,
     "metadata": {},
     "output_type": "execute_result"
    }
   ],
   "source": [
    "X.isin(['?']).sum().sort_values(ascending=False)"
   ]
  },
  {
   "cell_type": "markdown",
   "id": "911875fe",
   "metadata": {},
   "source": [
    "_𝑆𝑖𝑚𝑝𝑙𝑒𝐼𝑚𝑝𝑢𝑡𝑒𝑟 - исп-ся для восстановления пропущенных значений (strategy='most_frequent' - самое частое значение)_"
   ]
  },
  {
   "cell_type": "code",
   "execution_count": 92,
   "id": "796aa6e7",
   "metadata": {
    "scrolled": true
   },
   "outputs": [
    {
     "data": {
      "text/plain": [
       "0     0\n",
       "1     0\n",
       "2     0\n",
       "3     0\n",
       "4     0\n",
       "5     0\n",
       "6     0\n",
       "7     0\n",
       "8     0\n",
       "9     0\n",
       "10    0\n",
       "11    0\n",
       "12    0\n",
       "13    0\n",
       "dtype: int64"
      ]
     },
     "execution_count": 92,
     "metadata": {},
     "output_type": "execute_result"
    }
   ],
   "source": [
    "imputer = SimpleImputer(missing_values='?', strategy='most_frequent')\n",
    "X_imp = pd.DataFrame(imputer.fit_transform(X))\n",
    "X_imp.isin(['?']).sum().sort_values(ascending=False)"
   ]
  },
  {
   "cell_type": "markdown",
   "id": "be9465a2",
   "metadata": {},
   "source": [
    "Пересчитаем метрики на новых данных:"
   ]
  },
  {
   "cell_type": "code",
   "execution_count": 74,
   "id": "881b67dd",
   "metadata": {},
   "outputs": [],
   "source": [
    "preprocessor_imputer = ColumnTransformer([('cat', Pipeline([('imputer', SimpleImputer(missing_values='?', strategy=\"most_frequent\")), ('encoder', OneHotEncoder(handle_unknown='ignore', sparse=False))]), categorical),\n",
    "                                          ('num', Pipeline([('scaler', MinMaxScaler())]), numerical)\n",
    "                                          ])\n",
    "X_train , X_test, y_train , y_test = train_test_split(X, y, test_size=0.2, random_state=42)"
   ]
  },
  {
   "cell_type": "markdown",
   "id": "c7d9c206",
   "metadata": {},
   "source": [
    "1. Для LogisticRegression:"
   ]
  },
  {
   "cell_type": "code",
   "execution_count": 79,
   "id": "5f93dc2a",
   "metadata": {},
   "outputs": [
    {
     "name": "stdout",
     "output_type": "stream",
     "text": [
      "accuracн: 0.850792\n",
      "f1:       0.654662\n"
     ]
    }
   ],
   "source": [
    "# создание пайплайна\n",
    "pipe_LogReg = Pipeline([('preprocessor', preprocessor_base), ('classifier', LogisticRegression(random_state=RANDOM_STATE, max_iter=1000))])\n",
    "\n",
    "# расчет accurancy и f1\n",
    "LogReg_simpl_accuracy = cross_val_score(pipe_LogReg, X_train, y_train, cv=5, scoring='accuracy').mean()\n",
    "LogReg_simpl_f1 = cross_val_score(pipe_LogReg, X_train, y_train, cv=5, scoring='f1').mean()\n",
    "\n",
    "# вывод accurancy и f1\n",
    "print(f\"accuracн: {LogReg_simpl_accuracy:.6f}\")\n",
    "print(f\"f1:       {LogReg_simpl_f1:.6f}\")"
   ]
  },
  {
   "cell_type": "markdown",
   "id": "03c5a8f3",
   "metadata": {},
   "source": [
    "2. Для 𝐾𝑁𝑒𝑖𝑔ℎ𝑏𝑜𝑟𝑠𝐶𝑙𝑎𝑠𝑠𝑖𝑓𝑖𝑒𝑟:"
   ]
  },
  {
   "cell_type": "code",
   "execution_count": 80,
   "id": "15f5f4ad",
   "metadata": {},
   "outputs": [
    {
     "name": "stdout",
     "output_type": "stream",
     "text": [
      "accuracy:  0.826504\n",
      "f1:        0.613774\n"
     ]
    }
   ],
   "source": [
    "# создание пайплайна\n",
    "pipe_KN= Pipeline([('preprocessor', preprocessor_base), ('classifier', KNeighborsClassifier())])\n",
    "\n",
    "# расчет accurancy и f1\n",
    "KN_simpl_accuracy = cross_val_score(pipe_KN, X_train, y_train, cv=5, scoring='accuracy').mean()\n",
    "KN_simpl_f1 = cross_val_score(pipe_KN, X_train, y_train, cv=5, scoring='f1').mean()\n",
    "\n",
    "# вывод accurancy и f1\n",
    "print(f\"accuracy:  {KN_simpl_accuracy:.6f}\")\n",
    "print(f\"f1:        {KN_simpl_f1:.6f}\")"
   ]
  },
  {
   "cell_type": "markdown",
   "id": "c6b7eb61",
   "metadata": {},
   "source": [
    "3. Для $LinearSVC$:"
   ]
  },
  {
   "cell_type": "code",
   "execution_count": 81,
   "id": "9ea541dc",
   "metadata": {},
   "outputs": [
    {
     "name": "stdout",
     "output_type": "stream",
     "text": [
      "accuracy:  0.852942\n",
      "f1:        0.657380\n"
     ]
    }
   ],
   "source": [
    "# создание пайплайна\n",
    "pipe_LinSVC = Pipeline([('preprocessor', preprocessor_base), ('classifier', LinearSVC(random_state=RANDOM_STATE))])\n",
    "\n",
    "# расчет accurancy и f1\n",
    "LinSVC_simpl_accuracy = cross_val_score(pipe_LinSVC, X_train, y_train, cv=5, scoring='accuracy').mean()\n",
    "LinSVC_simpl_f1 = cross_val_score(pipe_LinSVC, X_train, y_train, cv=5, scoring='f1').mean()\n",
    "\n",
    "# вывод accurancy и f1\n",
    "print(f\"accuracy:  {LinSVC_simpl_accuracy:.6f}\")\n",
    "print(f\"f1:        {LinSVC_simpl_f1:.6f}\")"
   ]
  },
  {
   "cell_type": "code",
   "execution_count": 82,
   "id": "1991fce3",
   "metadata": {},
   "outputs": [],
   "source": [
    "f1_LR = LogReg_simpl_f1\n",
    "acc_LR = LogReg_simpl_accuracy\n",
    "f1_KNN = KN_simpl_f1\n",
    "acc_KNN = KN_simpl_accuracy\n",
    "f1_SVM = LinSVC_simpl_f1\n",
    "acc_SVM = LinSVC_accuracy\n",
    "results_classification.loc[4] = ['LogisticRegression_impute', 'task14', f1_LR, acc_LR]\n",
    "results_classification.loc[5] = ['KNeighborsClassifier_impute', 'task14', f1_KNN, acc_KNN]\n",
    "results_classification.loc[6] = ['LinearSVC_impute', 'task14', f1_SVM, acc_SVM]"
   ]
  },
  {
   "cell_type": "markdown",
   "id": "0e69b782",
   "metadata": {},
   "source": [
    "Метрики качества после удаления очистки данных почти не изменились"
   ]
  },
  {
   "cell_type": "code",
   "execution_count": null,
   "id": "94ec28da",
   "metadata": {},
   "outputs": [],
   "source": []
  },
  {
   "cell_type": "markdown",
   "id": "b0601078",
   "metadata": {},
   "source": [
    "### Посчитайте cross_val_score по тем же алгоритмам и метрикам, если просто удалить значения '$?$'. ###"
   ]
  },
  {
   "cell_type": "code",
   "execution_count": 88,
   "id": "6395429c",
   "metadata": {
    "scrolled": false
   },
   "outputs": [
    {
     "data": {
      "text/html": [
       "<div>\n",
       "<style scoped>\n",
       "    .dataframe tbody tr th:only-of-type {\n",
       "        vertical-align: middle;\n",
       "    }\n",
       "\n",
       "    .dataframe tbody tr th {\n",
       "        vertical-align: top;\n",
       "    }\n",
       "\n",
       "    .dataframe thead th {\n",
       "        text-align: right;\n",
       "    }\n",
       "</style>\n",
       "<table border=\"1\" class=\"dataframe\">\n",
       "  <thead>\n",
       "    <tr style=\"text-align: right;\">\n",
       "      <th></th>\n",
       "      <th>age</th>\n",
       "      <th>workclass</th>\n",
       "      <th>fnlwgt</th>\n",
       "      <th>education</th>\n",
       "      <th>education-num</th>\n",
       "      <th>marital-status</th>\n",
       "      <th>occupation</th>\n",
       "      <th>relationship</th>\n",
       "      <th>race</th>\n",
       "      <th>sex</th>\n",
       "      <th>capital-gain</th>\n",
       "      <th>capital-loss</th>\n",
       "      <th>hours-per-week</th>\n",
       "      <th>native-country</th>\n",
       "    </tr>\n",
       "  </thead>\n",
       "  <tbody>\n",
       "    <tr>\n",
       "      <th>48836</th>\n",
       "      <td>33</td>\n",
       "      <td>Private</td>\n",
       "      <td>245211</td>\n",
       "      <td>Bachelors</td>\n",
       "      <td>13</td>\n",
       "      <td>Never-married</td>\n",
       "      <td>Prof-specialty</td>\n",
       "      <td>Own-child</td>\n",
       "      <td>White</td>\n",
       "      <td>Male</td>\n",
       "      <td>0</td>\n",
       "      <td>0</td>\n",
       "      <td>40</td>\n",
       "      <td>United-States</td>\n",
       "    </tr>\n",
       "    <tr>\n",
       "      <th>48837</th>\n",
       "      <td>39</td>\n",
       "      <td>Private</td>\n",
       "      <td>215419</td>\n",
       "      <td>Bachelors</td>\n",
       "      <td>13</td>\n",
       "      <td>Divorced</td>\n",
       "      <td>Prof-specialty</td>\n",
       "      <td>Not-in-family</td>\n",
       "      <td>White</td>\n",
       "      <td>Female</td>\n",
       "      <td>0</td>\n",
       "      <td>0</td>\n",
       "      <td>36</td>\n",
       "      <td>United-States</td>\n",
       "    </tr>\n",
       "    <tr>\n",
       "      <th>48839</th>\n",
       "      <td>38</td>\n",
       "      <td>Private</td>\n",
       "      <td>374983</td>\n",
       "      <td>Bachelors</td>\n",
       "      <td>13</td>\n",
       "      <td>Married-civ-spouse</td>\n",
       "      <td>Prof-specialty</td>\n",
       "      <td>Husband</td>\n",
       "      <td>White</td>\n",
       "      <td>Male</td>\n",
       "      <td>0</td>\n",
       "      <td>0</td>\n",
       "      <td>50</td>\n",
       "      <td>United-States</td>\n",
       "    </tr>\n",
       "    <tr>\n",
       "      <th>48840</th>\n",
       "      <td>44</td>\n",
       "      <td>Private</td>\n",
       "      <td>83891</td>\n",
       "      <td>Bachelors</td>\n",
       "      <td>13</td>\n",
       "      <td>Divorced</td>\n",
       "      <td>Adm-clerical</td>\n",
       "      <td>Own-child</td>\n",
       "      <td>Asian-Pac-Islander</td>\n",
       "      <td>Male</td>\n",
       "      <td>5455</td>\n",
       "      <td>0</td>\n",
       "      <td>40</td>\n",
       "      <td>United-States</td>\n",
       "    </tr>\n",
       "    <tr>\n",
       "      <th>48841</th>\n",
       "      <td>35</td>\n",
       "      <td>Self-emp-inc</td>\n",
       "      <td>182148</td>\n",
       "      <td>Bachelors</td>\n",
       "      <td>13</td>\n",
       "      <td>Married-civ-spouse</td>\n",
       "      <td>Exec-managerial</td>\n",
       "      <td>Husband</td>\n",
       "      <td>White</td>\n",
       "      <td>Male</td>\n",
       "      <td>0</td>\n",
       "      <td>0</td>\n",
       "      <td>60</td>\n",
       "      <td>United-States</td>\n",
       "    </tr>\n",
       "  </tbody>\n",
       "</table>\n",
       "</div>"
      ],
      "text/plain": [
       "       age     workclass  fnlwgt  education  education-num  \\\n",
       "48836   33       Private  245211  Bachelors             13   \n",
       "48837   39       Private  215419  Bachelors             13   \n",
       "48839   38       Private  374983  Bachelors             13   \n",
       "48840   44       Private   83891  Bachelors             13   \n",
       "48841   35  Self-emp-inc  182148  Bachelors             13   \n",
       "\n",
       "           marital-status       occupation   relationship                race  \\\n",
       "48836       Never-married   Prof-specialty      Own-child               White   \n",
       "48837            Divorced   Prof-specialty  Not-in-family               White   \n",
       "48839  Married-civ-spouse   Prof-specialty        Husband               White   \n",
       "48840            Divorced     Adm-clerical      Own-child  Asian-Pac-Islander   \n",
       "48841  Married-civ-spouse  Exec-managerial        Husband               White   \n",
       "\n",
       "          sex  capital-gain  capital-loss  hours-per-week native-country  \n",
       "48836    Male             0             0              40  United-States  \n",
       "48837  Female             0             0              36  United-States  \n",
       "48839    Male             0             0              50  United-States  \n",
       "48840    Male          5455             0              40  United-States  \n",
       "48841    Male             0             0              60  United-States  "
      ]
     },
     "execution_count": 88,
     "metadata": {},
     "output_type": "execute_result"
    }
   ],
   "source": [
    "# заменим знак ? на NaN и удалим строки, содержащие хотя бы 1 пропуск\n",
    "# создадим копию датафрейма без целевой переменной (только признаки)\n",
    "X_dropna = data.replace({'?': np.nan}).dropna().iloc[:,0:14].copy()\n",
    "X_dropna.tail(5)"
   ]
  },
  {
   "cell_type": "code",
   "execution_count": 89,
   "id": "5aec35f6",
   "metadata": {},
   "outputs": [
    {
     "data": {
      "text/plain": [
       "class\n",
       "0    34014\n",
       "1    11208\n",
       "Name: count, dtype: int64"
      ]
     },
     "execution_count": 89,
     "metadata": {},
     "output_type": "execute_result"
    }
   ],
   "source": [
    "# создадим копию последнего столбца датафрейма (целевая переменная)\n",
    "y_dropna = data.replace({'?': np.nan}).dropna()['class'].copy()\n",
    "# заменим значения менее 50к на 0, значения более 50к на 1\n",
    "y_dropna[y_dropna == '<=50K'] = 0\n",
    "y_dropna[y_dropna == '>50K'] = 1\n",
    "# преобразуем тип данных целевой переменной в int\n",
    "y_dropna = y_dropna.astype(int)\n",
    "y_dropna.value_counts()"
   ]
  },
  {
   "cell_type": "code",
   "execution_count": 90,
   "id": "cbde72b3",
   "metadata": {},
   "outputs": [],
   "source": [
    "# предобработка данных\n",
    "preprocessor_base = ColumnTransformer([('cat', Pipeline([('encoder', OneHotEncoder(handle_unknown='ignore', sparse=False))]), categorical),\n",
    "                                  ('num', Pipeline([('scaler', MinMaxScaler())]), numerical)\n",
    "                                  ])"
   ]
  },
  {
   "cell_type": "markdown",
   "id": "7d6ab92a",
   "metadata": {},
   "source": [
    "1. Для LogisticRegression:"
   ]
  },
  {
   "cell_type": "code",
   "execution_count": 91,
   "id": "e84eb620",
   "metadata": {},
   "outputs": [
    {
     "name": "stdout",
     "output_type": "stream",
     "text": [
      "accuracy:   0.846845\n",
      "f1:         0.660126\n"
     ]
    }
   ],
   "source": [
    "# создание пайплайна\n",
    "pipe_LogReg = Pipeline([('preprocessor', preprocessor_base), ('classifier', LogisticRegression(random_state=RANDOM_STATE, max_iter=1000))])\n",
    "\n",
    "# расчет accurancy и f1\n",
    "LogReg_drop_accuracy = cross_val_score(pipe_LogReg, X_dropna, y_dropna, cv=5, scoring='accuracy').mean()\n",
    "LogReg_drop_f1 = cross_val_score(pipe_LogReg, X_dropna, y_dropna, cv=5, scoring='f1').mean()\n",
    "\n",
    "# вывод accurancy и f1\n",
    "print(f\"accuracy:   {LogReg_drop_accuracy:.6f}\")\n",
    "print(f\"f1:         {LogReg_drop_f1:.6f}\")"
   ]
  },
  {
   "cell_type": "markdown",
   "id": "b6ea149a",
   "metadata": {},
   "source": [
    "2. Для 𝐾𝑁𝑒𝑖𝑔ℎ𝑏𝑜𝑟𝑠𝐶𝑙𝑎𝑠𝑠𝑖𝑓𝑖𝑒𝑟:"
   ]
  },
  {
   "cell_type": "code",
   "execution_count": 92,
   "id": "06a00268",
   "metadata": {},
   "outputs": [
    {
     "name": "stdout",
     "output_type": "stream",
     "text": [
      "accuracy:  0.820530\n",
      "f1:        0.615718\n"
     ]
    }
   ],
   "source": [
    "# создание пайплайна\n",
    "pipe_KN= Pipeline([('preprocessor', preprocessor_base), ('classifier', KNeighborsClassifier())])\n",
    "\n",
    "# расчет accurancy и f1\n",
    "KN_drop_accuracy = cross_val_score(pipe_KN, X_dropna, y_dropna, cv=5, scoring='accuracy').mean()\n",
    "KN_drop_f1 = cross_val_score(pipe_KN, X_dropna, y_dropna, cv=5, scoring='f1').mean()\n",
    "\n",
    "# вывод accurancy и f1\n",
    "print(f\"accuracy:  {KN_drop_accuracy:.6f}\")\n",
    "print(f\"f1:        {KN_drop_f1:.6f}\")"
   ]
  },
  {
   "cell_type": "markdown",
   "id": "23d25ac0",
   "metadata": {},
   "source": [
    "3. Для  𝐿𝑖𝑛𝑒𝑎𝑟𝑆𝑉𝐶:"
   ]
  },
  {
   "cell_type": "code",
   "execution_count": 93,
   "id": "b4066cc1",
   "metadata": {},
   "outputs": [
    {
     "name": "stdout",
     "output_type": "stream",
     "text": [
      "accuracy:  0.848503\n",
      "f1:        0.661613\n"
     ]
    }
   ],
   "source": [
    "# создание пайплайна\n",
    "pipe_LinSVC = Pipeline([('preprocessor', preprocessor_base), ('classifier', LinearSVC(random_state=RANDOM_STATE))])\n",
    "\n",
    "# расчет accurancy и f1\n",
    "LinSVC_drop_accuracy = cross_val_score(pipe_LinSVC, X_dropna, y_dropna, cv=5, scoring='accuracy').mean()\n",
    "LinSVC_drop_f1 = cross_val_score(pipe_LinSVC, X_dropna, y_dropna, cv=5, scoring='f1').mean()\n",
    "\n",
    "# вывод accurancy и f1\n",
    "print(f\"accuracy:  {LinSVC_drop_accuracy:.6f}\")\n",
    "print(f\"f1:        {LinSVC_drop_f1:.6f}\")"
   ]
  },
  {
   "cell_type": "code",
   "execution_count": 94,
   "id": "f14cf964",
   "metadata": {},
   "outputs": [],
   "source": [
    "f1_LR_del_missings = LogReg_drop_f1\n",
    "acc_LR_del_missings = LogReg_drop_accuracy\n",
    "f1_KNN_del_missings = KN_drop_f1\n",
    "acc_KNN_del_missings = KN_drop_accuracy\n",
    "f1_SVM_del_missings = LinSVC_drop_f1\n",
    "acc_SVM_del_missings = LinSVC_drop_accuracy\n",
    "results_classification.loc[7] = ['LogisticRegression_delete_missings', 'task15', f1_LR_del_missings, acc_LR_del_missings]\n",
    "results_classification.loc[8] = ['KNeighborsClassifier_delete_missings', 'task15', f1_KNN_del_missings, acc_KNN_del_missings]\n",
    "results_classification.loc[9] = ['LinearSVC_delete_missings', 'task15', f1_SVM_del_missings, acc_SVM_del_missings]"
   ]
  },
  {
   "cell_type": "code",
   "execution_count": null,
   "id": "35c3d630",
   "metadata": {},
   "outputs": [],
   "source": []
  },
  {
   "cell_type": "markdown",
   "id": "29c45d09",
   "metadata": {},
   "source": [
    "### Посчитайте cross_val_score для $RandomForestClassifier,GradientBoostingClassifier$ на данных с замененными значениями '$?$' на самые частые значения. ###"
   ]
  },
  {
   "cell_type": "markdown",
   "id": "044a6ef5",
   "metadata": {},
   "source": [
    "1. Cross_val_score для $RandomForestClassifier$:"
   ]
  },
  {
   "cell_type": "markdown",
   "id": "926dc731",
   "metadata": {},
   "source": [
    "𝑅𝑎𝑛𝑑𝑜𝑚𝐹𝑜𝑟𝑒𝑠𝑡𝐶𝑙𝑎𝑠𝑠𝑖𝑓𝑖𝑒𝑟 - классификация методом случайного леса"
   ]
  },
  {
   "cell_type": "code",
   "execution_count": 95,
   "id": "463ce994",
   "metadata": {
    "scrolled": true
   },
   "outputs": [
    {
     "name": "stdout",
     "output_type": "stream",
     "text": [
      "accuracy:    0.853303\n",
      "f1:          0.668446\n"
     ]
    }
   ],
   "source": [
    "from sklearn.ensemble import RandomForestClassifier, GradientBoostingClassifier\n",
    "\n",
    "preprocessor_imputer = ColumnTransformer([('cat', Pipeline([('SimpleImputer', SimpleImputer(missing_values='?', strategy=\"most_frequent\")), ('encoder', OneHotEncoder(handle_unknown='ignore', sparse=False))]), categorical),\n",
    "                                  ('num', Pipeline([('scaler', MinMaxScaler())]), numerical)\n",
    "                                  ])\n",
    "\n",
    "# создание пайплайна\n",
    "pipe_RandFrst_SimpImp = Pipeline([('preprocessor', preprocessor_imputer), ('classifier', RandomForestClassifier(random_state=RANDOM_STATE))])\n",
    "\n",
    "# расчет cross_val_score по метрикам accurancy и f1\n",
    "RandFrst_SimpImp_accuracy = cross_val_score(pipe_RandFrst_SimpImp, X, y, cv=5, scoring='accuracy').mean()\n",
    "RandFrst_SimpImp_f1 = cross_val_score(pipe_RandFrst_SimpImp, X, y, cv=5, scoring='f1').mean()\n",
    "# вывод cross_val_score по метрикам accurancy и f1\n",
    "print(f\"accuracy:    {RandFrst_SimpImp_accuracy:.6f}\")\n",
    "print(f\"f1:          {RandFrst_SimpImp_f1:.6f}\")\n"
   ]
  },
  {
   "cell_type": "markdown",
   "id": "16f38b1d",
   "metadata": {},
   "source": [
    "2. Cross_val_score для $GradientBoostingClassifier$:"
   ]
  },
  {
   "cell_type": "code",
   "execution_count": 96,
   "id": "92799f17",
   "metadata": {},
   "outputs": [
    {
     "name": "stdout",
     "output_type": "stream",
     "text": [
      "accuracy:   0.866590\n",
      "f1:         0.683188\n"
     ]
    }
   ],
   "source": [
    "preprocessor_imputer = ColumnTransformer([('cat', Pipeline([('SimpleImputer', SimpleImputer(missing_values='?', strategy=\"most_frequent\")), ('encoder', OneHotEncoder(handle_unknown='ignore', sparse=False))]), categorical),\n",
    "                                  ('num', Pipeline([('scaler', MinMaxScaler())]), numerical)\n",
    "                                  ])\n",
    "\n",
    "# создание пайплайна\n",
    "pipe_GradBst_SimpImp = Pipeline([('preprocessor', preprocessor_imputer), ('classifier', GradientBoostingClassifier(random_state=RANDOM_STATE))])\n",
    "\n",
    "# расчет cross_val_score по метрикам accurancy и f1\n",
    "GradBst_SimpImp_accuracy = cross_val_score(pipe_GradBst_SimpImp, X, y, cv=5, scoring='accuracy').mean()\n",
    "GradBst_SimpImp_f1 = cross_val_score(pipe_GradBst_SimpImp, X, y, cv=5, scoring='f1').mean()\n",
    "\n",
    "# вывод cross_val_score по метрикам accurancy и f1\n",
    "print(f\"accuracy:   {GradBst_SimpImp_accuracy:.6f}\")\n",
    "print(f\"f1:         {GradBst_SimpImp_f1:.6f}\")\n"
   ]
  },
  {
   "cell_type": "code",
   "execution_count": 97,
   "id": "e5f28dbc",
   "metadata": {},
   "outputs": [],
   "source": [
    "f1_RF = RandFrst_SimpImp_f1\n",
    "acc_RF = RandFrst_SimpImp_accuracy\n",
    "f1_GB = GradBst_SimpImp_f1\n",
    "acc_GB = GradBst_SimpImp_accuracy\n",
    "results_classification.loc[10] = ['RandomForestClassifier', 'task16', f1_RF, acc_RF]\n",
    "results_classification.loc[11] = ['GradientBoostingClassifier', 'task16', f1_GB, acc_GB]"
   ]
  },
  {
   "cell_type": "markdown",
   "id": "b9a666a9",
   "metadata": {},
   "source": [
    "Модель улучшилась"
   ]
  },
  {
   "cell_type": "code",
   "execution_count": null,
   "id": "240daed3",
   "metadata": {},
   "outputs": [],
   "source": []
  },
  {
   "cell_type": "markdown",
   "id": "d4441683",
   "metadata": {},
   "source": [
    "### Подберите наилучшую модель, подбирая методы обработки колонок - масштабирование признаков, кодирование признаков и заполнение пропусков. Параметры алгоритмов оставьте по умолчанию. Выведите итоговые параметры и результат accuracy и $f1$_$score$. ###"
   ]
  },
  {
   "cell_type": "code",
   "execution_count": 101,
   "id": "9541288e",
   "metadata": {},
   "outputs": [],
   "source": [
    "preprocessor_imputer = ColumnTransformer([('cat', Pipeline([('imputer', SimpleImputer(missing_values='?', strategy=\"most_frequent\")), ('encoder', OneHotEncoder(handle_unknown='ignore', sparse=False))]), categorical),\n",
    "                                  ('num', Pipeline([('scaler', MinMaxScaler())]), numerical)\n",
    "                                  ])\n",
    "\n",
    "# методы кодирования признаков\n",
    "encoders = [OneHotEncoder(handle_unknown='ignore'),\n",
    "            LabelEncoder()\n",
    "            ]\n",
    "# методы масштабирования признаков\n",
    "scalers = [StandardScaler(), MinMaxScaler()]\n",
    "\n",
    "# рассматриваемые модели\n",
    "models = [LogisticRegression(random_state=RANDOM_STATE, max_iter=1000),\n",
    "          KNeighborsClassifier(),\n",
    "          LinearSVC(random_state=RANDOM_STATE),\n",
    "          RandomForestClassifier(random_state=RANDOM_STATE),\n",
    "          GradientBoostingClassifier(random_state=RANDOM_STATE)\n",
    "          ]\n",
    "\n",
    "search_model = Pipeline(steps=[('preprocessor', preprocessor_imputer), ('classifier', LogisticRegression(random_state=RANDOM_STATE, max_iter=1000))])\n",
    "\n",
    "# Задание параметров\n",
    "params = {\n",
    "          'preprocessor__cat__imputer__strategy': ['mean','median','most_frequent', 'constant'],\n",
    "          'preprocessor__cat__encoder': encoders,\n",
    "          'preprocessor__num': scalers,\n",
    "          'classifier': models\n",
    "}\n",
    "\n",
    "BestModel_SimpImp = GridSearchCV(search_model,\n",
    "                                 param_grid=params,\n",
    "                                 scoring=('accuracy', 'f1'),\n",
    "                                 refit='f1')"
   ]
  },
  {
   "cell_type": "code",
   "execution_count": 104,
   "id": "b5f34a8a",
   "metadata": {},
   "outputs": [
    {
     "data": {
      "text/plain": [
       "{'classifier': GradientBoostingClassifier(random_state=42),\n",
       " 'preprocessor__cat__encoder': OneHotEncoder(handle_unknown='ignore'),\n",
       " 'preprocessor__cat__imputer__strategy': 'constant',\n",
       " 'preprocessor__num': StandardScaler()}"
      ]
     },
     "metadata": {},
     "output_type": "display_data"
    },
    {
     "name": "stdout",
     "output_type": "stream",
     "text": [
      "accuracy : 0.875832\n",
      "f1:        0.712491\n"
     ]
    }
   ],
   "source": [
    "# Разбиваем выборку на обучающую и тестовую с помощью функции train_test_split\n",
    "X_train, X_test, y_train, y_test = train_test_split(X, y, train_size=0.8, random_state=RANDOM_STATE) \n",
    "\n",
    "# Обучаем модель\n",
    "BestModel_SimpImp.fit(X_test, y_test)\n",
    "\n",
    "# Посчитаем метрики accurancy и f1 для лучшей модели\n",
    "BestModel_SimpImp_tst_accuracy = accuracy_score(y_test, BestModel_SimpImp.predict(X_test))\n",
    "BestModel_SimpImp_tst_f1 = f1_score(y_test, BestModel_SimpImp.predict(X_test))\n",
    "\n",
    "\n",
    "# Выведем параметры лучшей модули, метрики accurancy и f1\n",
    "display(BestModel_SimpImp.best_params_)\n",
    "print(f\"accuracy : {BestModel_SimpImp_tst_accuracy:.6f}\")\n",
    "print(f\"f1:        {BestModel_SimpImp_tst_f1:.6f}\")\n"
   ]
  },
  {
   "cell_type": "markdown",
   "id": "75773e0e",
   "metadata": {},
   "source": [
    "Лучшими параметрами модели оказались:\n",
    "\n",
    "-модель: GradientBoostingClassifier\\\n",
    "-метод масштабирование признаков: StandardScaler;\\\n",
    "-метод кодирования признаков: OneHotEncoder;\\"
   ]
  },
  {
   "cell_type": "markdown",
   "id": "6fc50185",
   "metadata": {},
   "source": [
    "Посчитаем cross_val_score для лучшей модели по метрикам accuracy и f1_score\n",
    "\n"
   ]
  },
  {
   "cell_type": "code",
   "execution_count": 106,
   "id": "dd2dec37",
   "metadata": {},
   "outputs": [
    {
     "name": "stdout",
     "output_type": "stream",
     "text": [
      "accuracy:    0.867573\n",
      "f1:          0.686905\n"
     ]
    }
   ],
   "source": [
    "preprocessor_best = ColumnTransformer([('cat', Pipeline([('encoder', OneHotEncoder(handle_unknown='ignore'))]), categorical),\n",
    "                                       ('num', Pipeline([('scaler', StandardScaler())]), numerical)\n",
    "                                       ])\n",
    "                                  \n",
    "# создание пайплайна\n",
    "pipe_GradBst = Pipeline([('preprocessor', preprocessor_best), ('classifier', GradientBoostingClassifier(random_state=RANDOM_STATE))])\n",
    "\n",
    "# расчет accurancy и f1\n",
    "BestModel_1mf_accuracy = cross_val_score(pipe_GradBst, X, y, cv=5, scoring='accuracy').mean()\n",
    "BestModel_f1 = cross_val_score(pipe_GradBst, X, y, cv=5, scoring='f1').mean()\n",
    "\n",
    "print(f\"accuracy:    {BestModel_1mf_accuracy:.6f}\")\n",
    "print(f\"f1:          {BestModel_f1:.6f}\")\n"
   ]
  },
  {
   "cell_type": "code",
   "execution_count": 108,
   "id": "6b2ea672",
   "metadata": {},
   "outputs": [
    {
     "name": "stdout",
     "output_type": "stream",
     "text": [
      "Параметры лучшей модели:\n",
      " <class 'sklearn.ensemble._gb.GradientBoostingClassifier'>\n"
     ]
    }
   ],
   "source": [
    "best_params = GradientBoostingClassifier\n",
    "print('Параметры лучшей модели:\\n', best_params)\n",
    "f1_best = BestModel_f1\n",
    "acc_best = BestModel_1mf_accuracy\n",
    "results_classification.loc[12] = ['Best_Model', 'task17', f1_best, acc_best]"
   ]
  },
  {
   "cell_type": "code",
   "execution_count": 109,
   "id": "0ad2880a",
   "metadata": {},
   "outputs": [
    {
     "data": {
      "text/html": [
       "<div>\n",
       "<style scoped>\n",
       "    .dataframe tbody tr th:only-of-type {\n",
       "        vertical-align: middle;\n",
       "    }\n",
       "\n",
       "    .dataframe tbody tr th {\n",
       "        vertical-align: top;\n",
       "    }\n",
       "\n",
       "    .dataframe thead th {\n",
       "        text-align: right;\n",
       "    }\n",
       "</style>\n",
       "<table border=\"1\" class=\"dataframe\">\n",
       "  <thead>\n",
       "    <tr style=\"text-align: right;\">\n",
       "      <th></th>\n",
       "      <th>model</th>\n",
       "      <th>task</th>\n",
       "      <th>f1</th>\n",
       "      <th>accuracy</th>\n",
       "    </tr>\n",
       "  </thead>\n",
       "  <tbody>\n",
       "    <tr>\n",
       "      <th>0</th>\n",
       "      <td>Most Frequent class</td>\n",
       "      <td>task10</td>\n",
       "      <td>0.000000</td>\n",
       "      <td>0.760718</td>\n",
       "    </tr>\n",
       "    <tr>\n",
       "      <th>4</th>\n",
       "      <td>LogisticRegression_impute</td>\n",
       "      <td>task14</td>\n",
       "      <td>0.654662</td>\n",
       "      <td>0.850792</td>\n",
       "    </tr>\n",
       "    <tr>\n",
       "      <th>5</th>\n",
       "      <td>KNeighborsClassifier_impute</td>\n",
       "      <td>task14</td>\n",
       "      <td>0.613774</td>\n",
       "      <td>0.826504</td>\n",
       "    </tr>\n",
       "    <tr>\n",
       "      <th>6</th>\n",
       "      <td>LinearSVC_impute</td>\n",
       "      <td>task14</td>\n",
       "      <td>0.657380</td>\n",
       "      <td>0.852914</td>\n",
       "    </tr>\n",
       "    <tr>\n",
       "      <th>1</th>\n",
       "      <td>LogisticRegression</td>\n",
       "      <td>task13</td>\n",
       "      <td>0.655880</td>\n",
       "      <td>0.850907</td>\n",
       "    </tr>\n",
       "    <tr>\n",
       "      <th>2</th>\n",
       "      <td>KNeighborsClassifier</td>\n",
       "      <td>task13</td>\n",
       "      <td>0.610048</td>\n",
       "      <td>0.824741</td>\n",
       "    </tr>\n",
       "    <tr>\n",
       "      <th>3</th>\n",
       "      <td>LinearSVC</td>\n",
       "      <td>task13</td>\n",
       "      <td>0.657816</td>\n",
       "      <td>0.852914</td>\n",
       "    </tr>\n",
       "    <tr>\n",
       "      <th>7</th>\n",
       "      <td>LogisticRegression_delete_missings</td>\n",
       "      <td>task15</td>\n",
       "      <td>0.660126</td>\n",
       "      <td>0.846845</td>\n",
       "    </tr>\n",
       "    <tr>\n",
       "      <th>8</th>\n",
       "      <td>KNeighborsClassifier_delete_missings</td>\n",
       "      <td>task15</td>\n",
       "      <td>0.615718</td>\n",
       "      <td>0.820530</td>\n",
       "    </tr>\n",
       "    <tr>\n",
       "      <th>9</th>\n",
       "      <td>LinearSVC_delete_missings</td>\n",
       "      <td>task15</td>\n",
       "      <td>0.661613</td>\n",
       "      <td>0.848503</td>\n",
       "    </tr>\n",
       "    <tr>\n",
       "      <th>10</th>\n",
       "      <td>RandomForestClassifier</td>\n",
       "      <td>task16</td>\n",
       "      <td>0.668446</td>\n",
       "      <td>0.853303</td>\n",
       "    </tr>\n",
       "    <tr>\n",
       "      <th>11</th>\n",
       "      <td>GradientBoostingClassifier</td>\n",
       "      <td>task16</td>\n",
       "      <td>0.683188</td>\n",
       "      <td>0.866590</td>\n",
       "    </tr>\n",
       "    <tr>\n",
       "      <th>12</th>\n",
       "      <td>Best_Model</td>\n",
       "      <td>task17</td>\n",
       "      <td>0.686905</td>\n",
       "      <td>0.867573</td>\n",
       "    </tr>\n",
       "  </tbody>\n",
       "</table>\n",
       "</div>"
      ],
      "text/plain": [
       "                                   model    task        f1  accuracy\n",
       "0                    Most Frequent class  task10  0.000000  0.760718\n",
       "4              LogisticRegression_impute  task14  0.654662  0.850792\n",
       "5            KNeighborsClassifier_impute  task14  0.613774  0.826504\n",
       "6                       LinearSVC_impute  task14  0.657380  0.852914\n",
       "1                     LogisticRegression  task13  0.655880  0.850907\n",
       "2                   KNeighborsClassifier  task13  0.610048  0.824741\n",
       "3                              LinearSVC  task13  0.657816  0.852914\n",
       "7     LogisticRegression_delete_missings  task15  0.660126  0.846845\n",
       "8   KNeighborsClassifier_delete_missings  task15  0.615718  0.820530\n",
       "9              LinearSVC_delete_missings  task15  0.661613  0.848503\n",
       "10                RandomForestClassifier  task16  0.668446  0.853303\n",
       "11            GradientBoostingClassifier  task16  0.683188  0.866590\n",
       "12                            Best_Model  task17  0.686905  0.867573"
      ]
     },
     "execution_count": 109,
     "metadata": {},
     "output_type": "execute_result"
    }
   ],
   "source": [
    "results_classification"
   ]
  },
  {
   "cell_type": "code",
   "execution_count": null,
   "id": "7027b511",
   "metadata": {},
   "outputs": [],
   "source": []
  }
 ],
 "metadata": {
  "kernelspec": {
   "display_name": "Python 3 (ipykernel)",
   "language": "python",
   "name": "python3"
  },
  "language_info": {
   "codemirror_mode": {
    "name": "ipython",
    "version": 3
   },
   "file_extension": ".py",
   "mimetype": "text/x-python",
   "name": "python",
   "nbconvert_exporter": "python",
   "pygments_lexer": "ipython3",
   "version": "3.11.5"
  },
  "toc": {
   "base_numbering": 1,
   "nav_menu": {},
   "number_sections": true,
   "sideBar": true,
   "skip_h1_title": false,
   "title_cell": "Table of Contents",
   "title_sidebar": "Contents",
   "toc_cell": true,
   "toc_position": {},
   "toc_section_display": true,
   "toc_window_display": false
  }
 },
 "nbformat": 4,
 "nbformat_minor": 5
}
